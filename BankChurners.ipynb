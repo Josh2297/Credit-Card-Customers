{
 "cells": [
  {
   "cell_type": "markdown",
   "metadata": {},
   "source": [
    "# BANK CHURNERS"
   ]
  },
  {
   "cell_type": "raw",
   "metadata": {},
   "source": [
    "Task: Predict Customers who are likely to Abandon or lose interest int their services with the bank(Not Specified). in technical terms achieve a high recall score while keeping the precision score at a considerable point."
   ]
  },
  {
   "cell_type": "code",
   "execution_count": 53,
   "metadata": {},
   "outputs": [],
   "source": [
    "#Import needed Libraries\n",
    "import numpy as np\n",
    "import pandas as pd\n",
    "import matplotlib.pyplot as plt\n",
    "%matplotlib inline\n",
    "import seaborn as sns\n",
    "import csv\n",
    "import sklearn\n",
    "from sklearn.preprocessing import StandardScaler\n",
    "from sklearn.metrics import recall_score,precision_score,confusion_matrix,recall_score\n",
    "from sklearn.model_selection import cross_val_predict\n",
    "from sklearn.ensemble import RandomForestClassifier,GradientBoostingClassifier\n"
   ]
  },
  {
   "cell_type": "code",
   "execution_count": 2,
   "metadata": {},
   "outputs": [
    {
     "data": {
      "text/html": [
       "<div>\n",
       "<style scoped>\n",
       "    .dataframe tbody tr th:only-of-type {\n",
       "        vertical-align: middle;\n",
       "    }\n",
       "\n",
       "    .dataframe tbody tr th {\n",
       "        vertical-align: top;\n",
       "    }\n",
       "\n",
       "    .dataframe thead th {\n",
       "        text-align: right;\n",
       "    }\n",
       "</style>\n",
       "<table border=\"1\" class=\"dataframe\">\n",
       "  <thead>\n",
       "    <tr style=\"text-align: right;\">\n",
       "      <th></th>\n",
       "      <th>CLIENTNUM</th>\n",
       "      <th>Attrition_Flag</th>\n",
       "      <th>Customer_Age</th>\n",
       "      <th>Gender</th>\n",
       "      <th>Dependent_count</th>\n",
       "      <th>Education_Level</th>\n",
       "      <th>Marital_Status</th>\n",
       "      <th>Income_Category</th>\n",
       "      <th>Card_Category</th>\n",
       "      <th>Months_on_book</th>\n",
       "      <th>...</th>\n",
       "      <th>Months_Inactive_12_mon</th>\n",
       "      <th>Contacts_Count_12_mon</th>\n",
       "      <th>Credit_Limit</th>\n",
       "      <th>Total_Revolving_Bal</th>\n",
       "      <th>Avg_Open_To_Buy</th>\n",
       "      <th>Total_Amt_Chng_Q4_Q1</th>\n",
       "      <th>Total_Trans_Amt</th>\n",
       "      <th>Total_Trans_Ct</th>\n",
       "      <th>Total_Ct_Chng_Q4_Q1</th>\n",
       "      <th>Avg_Utilization_Ratio</th>\n",
       "    </tr>\n",
       "  </thead>\n",
       "  <tbody>\n",
       "    <tr>\n",
       "      <th>0</th>\n",
       "      <td>768805383</td>\n",
       "      <td>Existing Customer</td>\n",
       "      <td>45</td>\n",
       "      <td>M</td>\n",
       "      <td>3</td>\n",
       "      <td>High School</td>\n",
       "      <td>Married</td>\n",
       "      <td>$60K - $80K</td>\n",
       "      <td>Blue</td>\n",
       "      <td>39</td>\n",
       "      <td>...</td>\n",
       "      <td>1</td>\n",
       "      <td>3</td>\n",
       "      <td>12691</td>\n",
       "      <td>777</td>\n",
       "      <td>11914</td>\n",
       "      <td>1.335</td>\n",
       "      <td>1144</td>\n",
       "      <td>42</td>\n",
       "      <td>1.625</td>\n",
       "      <td>0.061</td>\n",
       "    </tr>\n",
       "    <tr>\n",
       "      <th>1</th>\n",
       "      <td>818770008</td>\n",
       "      <td>Existing Customer</td>\n",
       "      <td>49</td>\n",
       "      <td>F</td>\n",
       "      <td>5</td>\n",
       "      <td>Graduate</td>\n",
       "      <td>Single</td>\n",
       "      <td>Less than $40K</td>\n",
       "      <td>Blue</td>\n",
       "      <td>44</td>\n",
       "      <td>...</td>\n",
       "      <td>1</td>\n",
       "      <td>2</td>\n",
       "      <td>8256</td>\n",
       "      <td>864</td>\n",
       "      <td>7392</td>\n",
       "      <td>1.541</td>\n",
       "      <td>1291</td>\n",
       "      <td>33</td>\n",
       "      <td>3.714</td>\n",
       "      <td>0.105</td>\n",
       "    </tr>\n",
       "    <tr>\n",
       "      <th>2</th>\n",
       "      <td>713982108</td>\n",
       "      <td>Existing Customer</td>\n",
       "      <td>51</td>\n",
       "      <td>M</td>\n",
       "      <td>3</td>\n",
       "      <td>Graduate</td>\n",
       "      <td>Married</td>\n",
       "      <td>$80K - $120K</td>\n",
       "      <td>Blue</td>\n",
       "      <td>36</td>\n",
       "      <td>...</td>\n",
       "      <td>1</td>\n",
       "      <td>0</td>\n",
       "      <td>3418</td>\n",
       "      <td>0</td>\n",
       "      <td>3418</td>\n",
       "      <td>2.594</td>\n",
       "      <td>1887</td>\n",
       "      <td>20</td>\n",
       "      <td>2.333</td>\n",
       "      <td>0</td>\n",
       "    </tr>\n",
       "    <tr>\n",
       "      <th>3</th>\n",
       "      <td>769911858</td>\n",
       "      <td>Existing Customer</td>\n",
       "      <td>40</td>\n",
       "      <td>F</td>\n",
       "      <td>4</td>\n",
       "      <td>High School</td>\n",
       "      <td>Unknown</td>\n",
       "      <td>Less than $40K</td>\n",
       "      <td>Blue</td>\n",
       "      <td>34</td>\n",
       "      <td>...</td>\n",
       "      <td>4</td>\n",
       "      <td>1</td>\n",
       "      <td>3313</td>\n",
       "      <td>2517</td>\n",
       "      <td>796</td>\n",
       "      <td>1.405</td>\n",
       "      <td>1171</td>\n",
       "      <td>20</td>\n",
       "      <td>2.333</td>\n",
       "      <td>0.76</td>\n",
       "    </tr>\n",
       "    <tr>\n",
       "      <th>4</th>\n",
       "      <td>709106358</td>\n",
       "      <td>Existing Customer</td>\n",
       "      <td>40</td>\n",
       "      <td>M</td>\n",
       "      <td>3</td>\n",
       "      <td>Uneducated</td>\n",
       "      <td>Married</td>\n",
       "      <td>$60K - $80K</td>\n",
       "      <td>Blue</td>\n",
       "      <td>21</td>\n",
       "      <td>...</td>\n",
       "      <td>1</td>\n",
       "      <td>0</td>\n",
       "      <td>4716</td>\n",
       "      <td>0</td>\n",
       "      <td>4716</td>\n",
       "      <td>2.175</td>\n",
       "      <td>816</td>\n",
       "      <td>28</td>\n",
       "      <td>2.5</td>\n",
       "      <td>0</td>\n",
       "    </tr>\n",
       "    <tr>\n",
       "      <th>...</th>\n",
       "      <td>...</td>\n",
       "      <td>...</td>\n",
       "      <td>...</td>\n",
       "      <td>...</td>\n",
       "      <td>...</td>\n",
       "      <td>...</td>\n",
       "      <td>...</td>\n",
       "      <td>...</td>\n",
       "      <td>...</td>\n",
       "      <td>...</td>\n",
       "      <td>...</td>\n",
       "      <td>...</td>\n",
       "      <td>...</td>\n",
       "      <td>...</td>\n",
       "      <td>...</td>\n",
       "      <td>...</td>\n",
       "      <td>...</td>\n",
       "      <td>...</td>\n",
       "      <td>...</td>\n",
       "      <td>...</td>\n",
       "      <td>...</td>\n",
       "    </tr>\n",
       "    <tr>\n",
       "      <th>10122</th>\n",
       "      <td>772366833</td>\n",
       "      <td>Existing Customer</td>\n",
       "      <td>50</td>\n",
       "      <td>M</td>\n",
       "      <td>2</td>\n",
       "      <td>Graduate</td>\n",
       "      <td>Single</td>\n",
       "      <td>$40K - $60K</td>\n",
       "      <td>Blue</td>\n",
       "      <td>40</td>\n",
       "      <td>...</td>\n",
       "      <td>2</td>\n",
       "      <td>3</td>\n",
       "      <td>4003</td>\n",
       "      <td>1851</td>\n",
       "      <td>2152</td>\n",
       "      <td>0.703</td>\n",
       "      <td>15476</td>\n",
       "      <td>117</td>\n",
       "      <td>0.857</td>\n",
       "      <td>0.462</td>\n",
       "    </tr>\n",
       "    <tr>\n",
       "      <th>10123</th>\n",
       "      <td>710638233</td>\n",
       "      <td>Attrited Customer</td>\n",
       "      <td>41</td>\n",
       "      <td>M</td>\n",
       "      <td>2</td>\n",
       "      <td>Unknown</td>\n",
       "      <td>Divorced</td>\n",
       "      <td>$40K - $60K</td>\n",
       "      <td>Blue</td>\n",
       "      <td>25</td>\n",
       "      <td>...</td>\n",
       "      <td>2</td>\n",
       "      <td>3</td>\n",
       "      <td>4277</td>\n",
       "      <td>2186</td>\n",
       "      <td>2091</td>\n",
       "      <td>0.804</td>\n",
       "      <td>8764</td>\n",
       "      <td>69</td>\n",
       "      <td>0.683</td>\n",
       "      <td>0.511</td>\n",
       "    </tr>\n",
       "    <tr>\n",
       "      <th>10124</th>\n",
       "      <td>716506083</td>\n",
       "      <td>Attrited Customer</td>\n",
       "      <td>44</td>\n",
       "      <td>F</td>\n",
       "      <td>1</td>\n",
       "      <td>High School</td>\n",
       "      <td>Married</td>\n",
       "      <td>Less than $40K</td>\n",
       "      <td>Blue</td>\n",
       "      <td>36</td>\n",
       "      <td>...</td>\n",
       "      <td>3</td>\n",
       "      <td>4</td>\n",
       "      <td>5409</td>\n",
       "      <td>0</td>\n",
       "      <td>5409</td>\n",
       "      <td>0.819</td>\n",
       "      <td>10291</td>\n",
       "      <td>60</td>\n",
       "      <td>0.818</td>\n",
       "      <td>0</td>\n",
       "    </tr>\n",
       "    <tr>\n",
       "      <th>10125</th>\n",
       "      <td>717406983</td>\n",
       "      <td>Attrited Customer</td>\n",
       "      <td>30</td>\n",
       "      <td>M</td>\n",
       "      <td>2</td>\n",
       "      <td>Graduate</td>\n",
       "      <td>Unknown</td>\n",
       "      <td>$40K - $60K</td>\n",
       "      <td>Blue</td>\n",
       "      <td>36</td>\n",
       "      <td>...</td>\n",
       "      <td>3</td>\n",
       "      <td>3</td>\n",
       "      <td>5281</td>\n",
       "      <td>0</td>\n",
       "      <td>5281</td>\n",
       "      <td>0.535</td>\n",
       "      <td>8395</td>\n",
       "      <td>62</td>\n",
       "      <td>0.722</td>\n",
       "      <td>0</td>\n",
       "    </tr>\n",
       "    <tr>\n",
       "      <th>10126</th>\n",
       "      <td>714337233</td>\n",
       "      <td>Attrited Customer</td>\n",
       "      <td>43</td>\n",
       "      <td>F</td>\n",
       "      <td>2</td>\n",
       "      <td>Graduate</td>\n",
       "      <td>Married</td>\n",
       "      <td>Less than $40K</td>\n",
       "      <td>Silver</td>\n",
       "      <td>25</td>\n",
       "      <td>...</td>\n",
       "      <td>2</td>\n",
       "      <td>4</td>\n",
       "      <td>10388</td>\n",
       "      <td>1961</td>\n",
       "      <td>8427</td>\n",
       "      <td>0.703</td>\n",
       "      <td>10294</td>\n",
       "      <td>61</td>\n",
       "      <td>0.649</td>\n",
       "      <td>0.189</td>\n",
       "    </tr>\n",
       "  </tbody>\n",
       "</table>\n",
       "<p>10127 rows × 21 columns</p>\n",
       "</div>"
      ],
      "text/plain": [
       "       CLIENTNUM     Attrition_Flag Customer_Age Gender Dependent_count  \\\n",
       "0      768805383  Existing Customer           45      M               3   \n",
       "1      818770008  Existing Customer           49      F               5   \n",
       "2      713982108  Existing Customer           51      M               3   \n",
       "3      769911858  Existing Customer           40      F               4   \n",
       "4      709106358  Existing Customer           40      M               3   \n",
       "...          ...                ...          ...    ...             ...   \n",
       "10122  772366833  Existing Customer           50      M               2   \n",
       "10123  710638233  Attrited Customer           41      M               2   \n",
       "10124  716506083  Attrited Customer           44      F               1   \n",
       "10125  717406983  Attrited Customer           30      M               2   \n",
       "10126  714337233  Attrited Customer           43      F               2   \n",
       "\n",
       "      Education_Level Marital_Status Income_Category Card_Category  \\\n",
       "0         High School        Married     $60K - $80K          Blue   \n",
       "1            Graduate         Single  Less than $40K          Blue   \n",
       "2            Graduate        Married    $80K - $120K          Blue   \n",
       "3         High School        Unknown  Less than $40K          Blue   \n",
       "4          Uneducated        Married     $60K - $80K          Blue   \n",
       "...               ...            ...             ...           ...   \n",
       "10122        Graduate         Single     $40K - $60K          Blue   \n",
       "10123         Unknown       Divorced     $40K - $60K          Blue   \n",
       "10124     High School        Married  Less than $40K          Blue   \n",
       "10125        Graduate        Unknown     $40K - $60K          Blue   \n",
       "10126        Graduate        Married  Less than $40K        Silver   \n",
       "\n",
       "      Months_on_book  ... Months_Inactive_12_mon Contacts_Count_12_mon  \\\n",
       "0                 39  ...                      1                     3   \n",
       "1                 44  ...                      1                     2   \n",
       "2                 36  ...                      1                     0   \n",
       "3                 34  ...                      4                     1   \n",
       "4                 21  ...                      1                     0   \n",
       "...              ...  ...                    ...                   ...   \n",
       "10122             40  ...                      2                     3   \n",
       "10123             25  ...                      2                     3   \n",
       "10124             36  ...                      3                     4   \n",
       "10125             36  ...                      3                     3   \n",
       "10126             25  ...                      2                     4   \n",
       "\n",
       "      Credit_Limit Total_Revolving_Bal Avg_Open_To_Buy Total_Amt_Chng_Q4_Q1  \\\n",
       "0            12691                 777           11914                1.335   \n",
       "1             8256                 864            7392                1.541   \n",
       "2             3418                   0            3418                2.594   \n",
       "3             3313                2517             796                1.405   \n",
       "4             4716                   0            4716                2.175   \n",
       "...            ...                 ...             ...                  ...   \n",
       "10122         4003                1851            2152                0.703   \n",
       "10123         4277                2186            2091                0.804   \n",
       "10124         5409                   0            5409                0.819   \n",
       "10125         5281                   0            5281                0.535   \n",
       "10126        10388                1961            8427                0.703   \n",
       "\n",
       "      Total_Trans_Amt Total_Trans_Ct Total_Ct_Chng_Q4_Q1 Avg_Utilization_Ratio  \n",
       "0                1144             42               1.625                 0.061  \n",
       "1                1291             33               3.714                 0.105  \n",
       "2                1887             20               2.333                     0  \n",
       "3                1171             20               2.333                  0.76  \n",
       "4                 816             28                 2.5                     0  \n",
       "...               ...            ...                 ...                   ...  \n",
       "10122           15476            117               0.857                 0.462  \n",
       "10123            8764             69               0.683                 0.511  \n",
       "10124           10291             60               0.818                     0  \n",
       "10125            8395             62               0.722                     0  \n",
       "10126           10294             61               0.649                 0.189  \n",
       "\n",
       "[10127 rows x 21 columns]"
      ]
     },
     "execution_count": 2,
     "metadata": {},
     "output_type": "execute_result"
    }
   ],
   "source": [
    "#File Contains Non-informative columns So it will be passed manually\n",
    "data=list(csv.reader(open('/storage/emulated/0/BankChurners.csv')))\n",
    "header=data[0][:-2]\n",
    "body=data[1:]\n",
    "b=[]\n",
    "for x in body:\n",
    "    b.append(x[:-2])\n",
    "body=b;del b     \n",
    "data=pd.DataFrame(body,columns=header)\n",
    "data"
   ]
  },
  {
   "cell_type": "code",
   "execution_count": 3,
   "metadata": {},
   "outputs": [],
   "source": [
    "np.random.seed=42;seed=42"
   ]
  },
  {
   "cell_type": "markdown",
   "metadata": {},
   "source": [
    "Target Column is Attrition_Flag Column "
   ]
  },
  {
   "cell_type": "code",
   "execution_count": 4,
   "metadata": {},
   "outputs": [
    {
     "data": {
      "text/plain": [
       "(10127, 21)"
      ]
     },
     "execution_count": 4,
     "metadata": {},
     "output_type": "execute_result"
    }
   ],
   "source": [
    "data.shape"
   ]
  },
  {
   "cell_type": "code",
   "execution_count": 5,
   "metadata": {},
   "outputs": [
    {
     "data": {
      "text/plain": [
       "Existing Customer    8500\n",
       "Attrited Customer    1627\n",
       "Name: Attrition_Flag, dtype: int64"
      ]
     },
     "execution_count": 5,
     "metadata": {},
     "output_type": "execute_result"
    }
   ],
   "source": [
    "data.Attrition_Flag.value_counts()"
   ]
  },
  {
   "cell_type": "markdown",
   "metadata": {},
   "source": [
    "The data is imbalanced as can be seen above from its Target value counts\n",
    "with 1627 Attrited Customers out of 10127 customers\n"
   ]
  },
  {
   "cell_type": "code",
   "execution_count": 6,
   "metadata": {},
   "outputs": [
    {
     "name": "stdout",
     "output_type": "stream",
     "text": [
      "<class 'pandas.core.frame.DataFrame'>\n",
      "RangeIndex: 10127 entries, 0 to 10126\n",
      "Data columns (total 21 columns):\n",
      " #   Column                    Non-Null Count  Dtype \n",
      "---  ------                    --------------  ----- \n",
      " 0   CLIENTNUM                 10127 non-null  object\n",
      " 1   Attrition_Flag            10127 non-null  object\n",
      " 2   Customer_Age              10127 non-null  object\n",
      " 3   Gender                    10127 non-null  object\n",
      " 4   Dependent_count           10127 non-null  object\n",
      " 5   Education_Level           10127 non-null  object\n",
      " 6   Marital_Status            10127 non-null  object\n",
      " 7   Income_Category           10127 non-null  object\n",
      " 8   Card_Category             10127 non-null  object\n",
      " 9   Months_on_book            10127 non-null  object\n",
      " 10  Total_Relationship_Count  10127 non-null  object\n",
      " 11  Months_Inactive_12_mon    10127 non-null  object\n",
      " 12  Contacts_Count_12_mon     10127 non-null  object\n",
      " 13  Credit_Limit              10127 non-null  object\n",
      " 14  Total_Revolving_Bal       10127 non-null  object\n",
      " 15  Avg_Open_To_Buy           10127 non-null  object\n",
      " 16  Total_Amt_Chng_Q4_Q1      10127 non-null  object\n",
      " 17  Total_Trans_Amt           10127 non-null  object\n",
      " 18  Total_Trans_Ct            10127 non-null  object\n",
      " 19  Total_Ct_Chng_Q4_Q1       10127 non-null  object\n",
      " 20  Avg_Utilization_Ratio     10127 non-null  object\n",
      "dtypes: object(21)\n",
      "memory usage: 830.8+ KB\n"
     ]
    }
   ],
   "source": [
    "data.info()"
   ]
  },
  {
   "cell_type": "markdown",
   "metadata": {},
   "source": [
    "data have no missing point"
   ]
  },
  {
   "cell_type": "code",
   "execution_count": 7,
   "metadata": {},
   "outputs": [
    {
     "data": {
      "text/plain": [
       "count    10127.000000\n",
       "mean        46.325960\n",
       "std          8.016814\n",
       "min         26.000000\n",
       "25%         41.000000\n",
       "50%         46.000000\n",
       "75%         52.000000\n",
       "max         73.000000\n",
       "Name: Customer_Age, dtype: float64"
      ]
     },
     "execution_count": 7,
     "metadata": {},
     "output_type": "execute_result"
    }
   ],
   "source": [
    "#Analysing Customers Age\n",
    "age=data.Customer_Age.astype(\"int64\")\n",
    "age.describe()"
   ]
  },
  {
   "cell_type": "code",
   "execution_count": 8,
   "metadata": {},
   "outputs": [
    {
     "data": {
      "image/png": "[encoded data removed]",
      "text/plain": [
       "<Figure size 360x360 with 1 Axes>"
      ]
     },
     "metadata": {
      "needs_background": "light"
     },
     "output_type": "display_data"
    }
   ],
   "source": [
    "fig=plt.figure(figsize=(5,5))\n",
    "plt.title('Age_Plot')\n",
    "sns.histplot(x=age,color='g')\n",
    "plt.grid(True)\n",
    "plt.xlabel('Age_In_Years')\n",
    "for x in [0.25,0.50,0.75]:\n",
    "    plt.axvline(age.quantile(x),c='r',lw=2.0)\n",
    "plt.show()"
   ]
  },
  {
   "cell_type": "markdown",
   "metadata": {},
   "source": [
    "The Age plot above shows a normal distribution. The Vertical Lines Indicates Quarterly Quantiles "
   ]
  },
  {
   "cell_type": "code",
   "execution_count": 9,
   "metadata": {},
   "outputs": [],
   "source": [
    "data.Customer_Age=age;del age"
   ]
  },
  {
   "cell_type": "code",
   "execution_count": 10,
   "metadata": {},
   "outputs": [
    {
     "name": "stdout",
     "output_type": "stream",
     "text": [
      "<class 'pandas.core.frame.DataFrame'>\n",
      "RangeIndex: 10127 entries, 0 to 10126\n",
      "Data columns (total 21 columns):\n",
      " #   Column                    Non-Null Count  Dtype \n",
      "---  ------                    --------------  ----- \n",
      " 0   CLIENTNUM                 10127 non-null  object\n",
      " 1   Attrition_Flag            10127 non-null  object\n",
      " 2   Customer_Age              10127 non-null  int64 \n",
      " 3   Gender                    10127 non-null  object\n",
      " 4   Dependent_count           10127 non-null  object\n",
      " 5   Education_Level           10127 non-null  object\n",
      " 6   Marital_Status            10127 non-null  object\n",
      " 7   Income_Category           10127 non-null  object\n",
      " 8   Card_Category             10127 non-null  object\n",
      " 9   Months_on_book            10127 non-null  object\n",
      " 10  Total_Relationship_Count  10127 non-null  object\n",
      " 11  Months_Inactive_12_mon    10127 non-null  object\n",
      " 12  Contacts_Count_12_mon     10127 non-null  object\n",
      " 13  Credit_Limit              10127 non-null  object\n",
      " 14  Total_Revolving_Bal       10127 non-null  object\n",
      " 15  Avg_Open_To_Buy           10127 non-null  object\n",
      " 16  Total_Amt_Chng_Q4_Q1      10127 non-null  object\n",
      " 17  Total_Trans_Amt           10127 non-null  object\n",
      " 18  Total_Trans_Ct            10127 non-null  object\n",
      " 19  Total_Ct_Chng_Q4_Q1       10127 non-null  object\n",
      " 20  Avg_Utilization_Ratio     10127 non-null  object\n",
      "dtypes: int64(1), object(20)\n",
      "memory usage: 870.4+ KB\n"
     ]
    }
   ],
   "source": [
    "data.info()"
   ]
  },
  {
   "cell_type": "code",
   "execution_count": 11,
   "metadata": {},
   "outputs": [
    {
     "data": {
      "text/plain": [
       "F    5358\n",
       "M    4769\n",
       "Name: Gender, dtype: int64"
      ]
     },
     "execution_count": 11,
     "metadata": {},
     "output_type": "execute_result"
    }
   ],
   "source": [
    "#Gender\n",
    "gender=data.Gender\n",
    "gender.value_counts()"
   ]
  },
  {
   "cell_type": "code",
   "execution_count": 12,
   "metadata": {},
   "outputs": [
    {
     "data": {
      "image/png": "[encoded data removed]",
      "text/plain": [
       "<Figure size 432x288 with 1 Axes>"
      ]
     },
     "metadata": {
      "needs_background": "light"
     },
     "output_type": "display_data"
    }
   ],
   "source": [
    "plt.hist(data.Gender,bins=4)\n",
    "plt.xticks(ticks=[0,1],labels=['Male','Female'])\n",
    "plt.title('Gender_Plot');plt.grid('True')\n",
    "plt.show()"
   ]
  },
  {
   "cell_type": "code",
   "execution_count": 13,
   "metadata": {},
   "outputs": [],
   "source": [
    "data.Gender.replace(['F','M'],[0,1],inplace=True)"
   ]
  },
  {
   "cell_type": "code",
   "execution_count": 14,
   "metadata": {},
   "outputs": [
    {
     "data": {
      "text/plain": [
       "count    10127.000000\n",
       "mean         2.346203\n",
       "std          1.298908\n",
       "min          0.000000\n",
       "25%          1.000000\n",
       "50%          2.000000\n",
       "75%          3.000000\n",
       "max          5.000000\n",
       "Name: Dependent_count, dtype: float64"
      ]
     },
     "execution_count": 14,
     "metadata": {},
     "output_type": "execute_result"
    }
   ],
   "source": [
    "#Dependency Count\n",
    "dependency=data.Dependent_count.astype('int64')\n",
    "dependency.describe()"
   ]
  },
  {
   "cell_type": "code",
   "execution_count": 15,
   "metadata": {},
   "outputs": [
    {
     "data": {
      "image/png": "[encoded data removed]",
      "text/plain": [
       "<Figure size 576x720 with 1 Axes>"
      ]
     },
     "metadata": {
      "needs_background": "light"
     },
     "output_type": "display_data"
    }
   ],
   "source": [
    "plt.figure(figsize=(8,10))\n",
    "plt.title('Dependent_Plot')\n",
    "sns.histplot(dependency,color='g')\n",
    "plt.grid('True')\n",
    "plt.show()"
   ]
  },
  {
   "cell_type": "code",
   "execution_count": 16,
   "metadata": {},
   "outputs": [],
   "source": [
    "data.Dependent_count=dependency"
   ]
  },
  {
   "cell_type": "code",
   "execution_count": 17,
   "metadata": {},
   "outputs": [
    {
     "name": "stdout",
     "output_type": "stream",
     "text": [
      "<class 'pandas.core.frame.DataFrame'>\n",
      "RangeIndex: 10127 entries, 0 to 10126\n",
      "Data columns (total 21 columns):\n",
      " #   Column                    Non-Null Count  Dtype \n",
      "---  ------                    --------------  ----- \n",
      " 0   CLIENTNUM                 10127 non-null  object\n",
      " 1   Attrition_Flag            10127 non-null  object\n",
      " 2   Customer_Age              10127 non-null  int64 \n",
      " 3   Gender                    10127 non-null  int64 \n",
      " 4   Dependent_count           10127 non-null  int64 \n",
      " 5   Education_Level           10127 non-null  object\n",
      " 6   Marital_Status            10127 non-null  object\n",
      " 7   Income_Category           10127 non-null  object\n",
      " 8   Card_Category             10127 non-null  object\n",
      " 9   Months_on_book            10127 non-null  object\n",
      " 10  Total_Relationship_Count  10127 non-null  object\n",
      " 11  Months_Inactive_12_mon    10127 non-null  object\n",
      " 12  Contacts_Count_12_mon     10127 non-null  object\n",
      " 13  Credit_Limit              10127 non-null  object\n",
      " 14  Total_Revolving_Bal       10127 non-null  object\n",
      " 15  Avg_Open_To_Buy           10127 non-null  object\n",
      " 16  Total_Amt_Chng_Q4_Q1      10127 non-null  object\n",
      " 17  Total_Trans_Amt           10127 non-null  object\n",
      " 18  Total_Trans_Ct            10127 non-null  object\n",
      " 19  Total_Ct_Chng_Q4_Q1       10127 non-null  object\n",
      " 20  Avg_Utilization_Ratio     10127 non-null  object\n",
      "dtypes: int64(3), object(18)\n",
      "memory usage: 949.5+ KB\n"
     ]
    }
   ],
   "source": [
    "data.info()"
   ]
  },
  {
   "cell_type": "markdown",
   "metadata": {},
   "source": [
    "Most Columns with dtype as object are digits and can be directly transformed to float point numbers "
   ]
  },
  {
   "cell_type": "code",
   "execution_count": 18,
   "metadata": {},
   "outputs": [
    {
     "data": {
      "text/html": [
       "<div>\n",
       "<style scoped>\n",
       "    .dataframe tbody tr th:only-of-type {\n",
       "        vertical-align: middle;\n",
       "    }\n",
       "\n",
       "    .dataframe tbody tr th {\n",
       "        vertical-align: top;\n",
       "    }\n",
       "\n",
       "    .dataframe thead th {\n",
       "        text-align: right;\n",
       "    }\n",
       "</style>\n",
       "<table border=\"1\" class=\"dataframe\">\n",
       "  <thead>\n",
       "    <tr style=\"text-align: right;\">\n",
       "      <th></th>\n",
       "      <th>CLIENTNUM</th>\n",
       "      <th>Attrition_Flag</th>\n",
       "      <th>Customer_Age</th>\n",
       "      <th>Gender</th>\n",
       "      <th>Dependent_count</th>\n",
       "      <th>Education_Level</th>\n",
       "      <th>Marital_Status</th>\n",
       "      <th>Income_Category</th>\n",
       "      <th>Card_Category</th>\n",
       "      <th>Months_on_book</th>\n",
       "      <th>...</th>\n",
       "      <th>Months_Inactive_12_mon</th>\n",
       "      <th>Contacts_Count_12_mon</th>\n",
       "      <th>Credit_Limit</th>\n",
       "      <th>Total_Revolving_Bal</th>\n",
       "      <th>Avg_Open_To_Buy</th>\n",
       "      <th>Total_Amt_Chng_Q4_Q1</th>\n",
       "      <th>Total_Trans_Amt</th>\n",
       "      <th>Total_Trans_Ct</th>\n",
       "      <th>Total_Ct_Chng_Q4_Q1</th>\n",
       "      <th>Avg_Utilization_Ratio</th>\n",
       "    </tr>\n",
       "  </thead>\n",
       "  <tbody>\n",
       "    <tr>\n",
       "      <th>0</th>\n",
       "      <td>768805383</td>\n",
       "      <td>Existing Customer</td>\n",
       "      <td>45</td>\n",
       "      <td>1</td>\n",
       "      <td>3</td>\n",
       "      <td>High School</td>\n",
       "      <td>Married</td>\n",
       "      <td>$60K - $80K</td>\n",
       "      <td>Blue</td>\n",
       "      <td>39.0</td>\n",
       "      <td>...</td>\n",
       "      <td>1.0</td>\n",
       "      <td>3.0</td>\n",
       "      <td>12691.0</td>\n",
       "      <td>777.0</td>\n",
       "      <td>11914.0</td>\n",
       "      <td>1.335</td>\n",
       "      <td>1144.0</td>\n",
       "      <td>42.0</td>\n",
       "      <td>1.625</td>\n",
       "      <td>0.061</td>\n",
       "    </tr>\n",
       "    <tr>\n",
       "      <th>1</th>\n",
       "      <td>818770008</td>\n",
       "      <td>Existing Customer</td>\n",
       "      <td>49</td>\n",
       "      <td>0</td>\n",
       "      <td>5</td>\n",
       "      <td>Graduate</td>\n",
       "      <td>Single</td>\n",
       "      <td>Less than $40K</td>\n",
       "      <td>Blue</td>\n",
       "      <td>44.0</td>\n",
       "      <td>...</td>\n",
       "      <td>1.0</td>\n",
       "      <td>2.0</td>\n",
       "      <td>8256.0</td>\n",
       "      <td>864.0</td>\n",
       "      <td>7392.0</td>\n",
       "      <td>1.541</td>\n",
       "      <td>1291.0</td>\n",
       "      <td>33.0</td>\n",
       "      <td>3.714</td>\n",
       "      <td>0.105</td>\n",
       "    </tr>\n",
       "    <tr>\n",
       "      <th>2</th>\n",
       "      <td>713982108</td>\n",
       "      <td>Existing Customer</td>\n",
       "      <td>51</td>\n",
       "      <td>1</td>\n",
       "      <td>3</td>\n",
       "      <td>Graduate</td>\n",
       "      <td>Married</td>\n",
       "      <td>$80K - $120K</td>\n",
       "      <td>Blue</td>\n",
       "      <td>36.0</td>\n",
       "      <td>...</td>\n",
       "      <td>1.0</td>\n",
       "      <td>0.0</td>\n",
       "      <td>3418.0</td>\n",
       "      <td>0.0</td>\n",
       "      <td>3418.0</td>\n",
       "      <td>2.594</td>\n",
       "      <td>1887.0</td>\n",
       "      <td>20.0</td>\n",
       "      <td>2.333</td>\n",
       "      <td>0.000</td>\n",
       "    </tr>\n",
       "    <tr>\n",
       "      <th>3</th>\n",
       "      <td>769911858</td>\n",
       "      <td>Existing Customer</td>\n",
       "      <td>40</td>\n",
       "      <td>0</td>\n",
       "      <td>4</td>\n",
       "      <td>High School</td>\n",
       "      <td>Unknown</td>\n",
       "      <td>Less than $40K</td>\n",
       "      <td>Blue</td>\n",
       "      <td>34.0</td>\n",
       "      <td>...</td>\n",
       "      <td>4.0</td>\n",
       "      <td>1.0</td>\n",
       "      <td>3313.0</td>\n",
       "      <td>2517.0</td>\n",
       "      <td>796.0</td>\n",
       "      <td>1.405</td>\n",
       "      <td>1171.0</td>\n",
       "      <td>20.0</td>\n",
       "      <td>2.333</td>\n",
       "      <td>0.760</td>\n",
       "    </tr>\n",
       "    <tr>\n",
       "      <th>4</th>\n",
       "      <td>709106358</td>\n",
       "      <td>Existing Customer</td>\n",
       "      <td>40</td>\n",
       "      <td>1</td>\n",
       "      <td>3</td>\n",
       "      <td>Uneducated</td>\n",
       "      <td>Married</td>\n",
       "      <td>$60K - $80K</td>\n",
       "      <td>Blue</td>\n",
       "      <td>21.0</td>\n",
       "      <td>...</td>\n",
       "      <td>1.0</td>\n",
       "      <td>0.0</td>\n",
       "      <td>4716.0</td>\n",
       "      <td>0.0</td>\n",
       "      <td>4716.0</td>\n",
       "      <td>2.175</td>\n",
       "      <td>816.0</td>\n",
       "      <td>28.0</td>\n",
       "      <td>2.500</td>\n",
       "      <td>0.000</td>\n",
       "    </tr>\n",
       "  </tbody>\n",
       "</table>\n",
       "<p>5 rows × 21 columns</p>\n",
       "</div>"
      ],
      "text/plain": [
       "   CLIENTNUM     Attrition_Flag  Customer_Age  Gender  Dependent_count  \\\n",
       "0  768805383  Existing Customer            45       1                3   \n",
       "1  818770008  Existing Customer            49       0                5   \n",
       "2  713982108  Existing Customer            51       1                3   \n",
       "3  769911858  Existing Customer            40       0                4   \n",
       "4  709106358  Existing Customer            40       1                3   \n",
       "\n",
       "  Education_Level Marital_Status Income_Category Card_Category  \\\n",
       "0     High School        Married     $60K - $80K          Blue   \n",
       "1        Graduate         Single  Less than $40K          Blue   \n",
       "2        Graduate        Married    $80K - $120K          Blue   \n",
       "3     High School        Unknown  Less than $40K          Blue   \n",
       "4      Uneducated        Married     $60K - $80K          Blue   \n",
       "\n",
       "   Months_on_book  ...  Months_Inactive_12_mon  Contacts_Count_12_mon  \\\n",
       "0            39.0  ...                     1.0                    3.0   \n",
       "1            44.0  ...                     1.0                    2.0   \n",
       "2            36.0  ...                     1.0                    0.0   \n",
       "3            34.0  ...                     4.0                    1.0   \n",
       "4            21.0  ...                     1.0                    0.0   \n",
       "\n",
       "   Credit_Limit  Total_Revolving_Bal  Avg_Open_To_Buy  Total_Amt_Chng_Q4_Q1  \\\n",
       "0       12691.0                777.0          11914.0                 1.335   \n",
       "1        8256.0                864.0           7392.0                 1.541   \n",
       "2        3418.0                  0.0           3418.0                 2.594   \n",
       "3        3313.0               2517.0            796.0                 1.405   \n",
       "4        4716.0                  0.0           4716.0                 2.175   \n",
       "\n",
       "   Total_Trans_Amt  Total_Trans_Ct  Total_Ct_Chng_Q4_Q1  Avg_Utilization_Ratio  \n",
       "0           1144.0            42.0                1.625                  0.061  \n",
       "1           1291.0            33.0                3.714                  0.105  \n",
       "2           1887.0            20.0                2.333                  0.000  \n",
       "3           1171.0            20.0                2.333                  0.760  \n",
       "4            816.0            28.0                2.500                  0.000  \n",
       "\n",
       "[5 rows x 21 columns]"
      ]
     },
     "execution_count": 18,
     "metadata": {},
     "output_type": "execute_result"
    }
   ],
   "source": [
    "#Converting Object dtype to Float Numbers\n",
    "for x in data.columns[-12:]:\n",
    "    data[x]=data[x].astype('float64')\n",
    "data.head(5)"
   ]
  },
  {
   "cell_type": "code",
   "execution_count": 19,
   "metadata": {},
   "outputs": [
    {
     "name": "stdout",
     "output_type": "stream",
     "text": [
      "<class 'pandas.core.frame.DataFrame'>\n",
      "RangeIndex: 10127 entries, 0 to 10126\n",
      "Data columns (total 21 columns):\n",
      " #   Column                    Non-Null Count  Dtype  \n",
      "---  ------                    --------------  -----  \n",
      " 0   CLIENTNUM                 10127 non-null  object \n",
      " 1   Attrition_Flag            10127 non-null  object \n",
      " 2   Customer_Age              10127 non-null  int64  \n",
      " 3   Gender                    10127 non-null  int64  \n",
      " 4   Dependent_count           10127 non-null  int64  \n",
      " 5   Education_Level           10127 non-null  object \n",
      " 6   Marital_Status            10127 non-null  object \n",
      " 7   Income_Category           10127 non-null  object \n",
      " 8   Card_Category             10127 non-null  object \n",
      " 9   Months_on_book            10127 non-null  float64\n",
      " 10  Total_Relationship_Count  10127 non-null  float64\n",
      " 11  Months_Inactive_12_mon    10127 non-null  float64\n",
      " 12  Contacts_Count_12_mon     10127 non-null  float64\n",
      " 13  Credit_Limit              10127 non-null  float64\n",
      " 14  Total_Revolving_Bal       10127 non-null  float64\n",
      " 15  Avg_Open_To_Buy           10127 non-null  float64\n",
      " 16  Total_Amt_Chng_Q4_Q1      10127 non-null  float64\n",
      " 17  Total_Trans_Amt           10127 non-null  float64\n",
      " 18  Total_Trans_Ct            10127 non-null  float64\n",
      " 19  Total_Ct_Chng_Q4_Q1       10127 non-null  float64\n",
      " 20  Avg_Utilization_Ratio     10127 non-null  float64\n",
      "dtypes: float64(12), int64(3), object(6)\n",
      "memory usage: 1.4+ MB\n"
     ]
    }
   ],
   "source": [
    "data.info()"
   ]
  },
  {
   "cell_type": "code",
   "execution_count": 20,
   "metadata": {},
   "outputs": [
    {
     "data": {
      "text/plain": [
       "count    10127.000000\n",
       "mean      8631.953698\n",
       "std       9088.776650\n",
       "min       1438.300000\n",
       "25%       2555.000000\n",
       "50%       4549.000000\n",
       "75%      11067.500000\n",
       "max      34516.000000\n",
       "Name: Credit_Limit, dtype: float64"
      ]
     },
     "execution_count": 20,
     "metadata": {},
     "output_type": "execute_result"
    }
   ],
   "source": [
    "#Credit Limit \n",
    "data.Credit_Limit.describe()"
   ]
  },
  {
   "cell_type": "code",
   "execution_count": 21,
   "metadata": {},
   "outputs": [
    {
     "data": {
      "image/png": "[encoded data removed]",
      "text/plain": [
       "<Figure size 1440x720 with 3 Axes>"
      ]
     },
     "metadata": {
      "needs_background": "light"
     },
     "output_type": "display_data"
    }
   ],
   "source": [
    "#plot of credit limit\n",
    "fig,(ax1,ax2,ax3)=plt.subplots(1,3,figsize=(20,10))\n",
    "fig.suptitle('Credit_Limit_Plot')\n",
    "ax1.set_title('Hist_Of _Credit_Limit')\n",
    "sns.histplot(data.Credit_Limit,color='r',ax=ax1)\n",
    "ax1.set_xlabel('Credit_Limit')\n",
    "ax2.set_title('Boxplot_Of_Credit_Limit')\n",
    "sns.boxplot(y=data.Credit_Limit,orient='v',color='g',ax=ax2)\n",
    "ax2.set_xlabel('Credit_Limit')\n",
    "ax3.set_title('Violin_Plot_Of_Credit_Limit')\n",
    "sns.violinplot(y=data.Credit_Limit,orient='v',color='b',ax=ax3)\n",
    "ax3.set_xlabel('Credit_Limit')\n",
    "ax2.grid('True');ax1.grid('True');ax3.grid('True')\n",
    "plt.show()"
   ]
  },
  {
   "cell_type": "markdown",
   "metadata": {},
   "source": [
    "The Histplot above shows That majority of the customers have Credit Limits less than 10000,From the violin plot it can be seen that more customers have limits around 5000. The Boxplot shows the presence of outliers,some customers have credit limits as high as 30000. We have to deal with the outliers since this feature will most likely be an informative one "
   ]
  },
  {
   "cell_type": "code",
   "execution_count": 22,
   "metadata": {},
   "outputs": [
    {
     "data": {
      "image/png": "[encoded data removed]",
      "text/plain": [
       "<Figure size 720x720 with 2 Axes>"
      ]
     },
     "metadata": {
      "needs_background": "light"
     },
     "output_type": "display_data"
    }
   ],
   "source": [
    "#Box Plots\n",
    "fig,(ax1,ax2)=plt.subplots(1,2,figsize=(10,10))\n",
    "fig.suptitle('BoxPlots')\n",
    "ax1.set_title('Total_Rev_Bal & Trans_Amt')\n",
    "sns.boxplot(data=data[['Total_Revolving_Bal','Total_Trans_Amt']],ax=ax1)\n",
    "ax2.set_title('Tot_Amt_Chg & Ct & Avg_ut_Rat')\n",
    "sns.boxplot(data=data[['Total_Amt_Chng_Q4_Q1','Total_Ct_Chng_Q4_Q1','Avg_Utilization_Ratio']],ax=ax2)\n",
    "plt.xticks([0,1,2],['Total_Amt_Chng','Total_Ct_Chng','Avg_Utilization'])\n",
    "plt.show()"
   ]
  },
  {
   "cell_type": "markdown",
   "metadata": {},
   "source": [
    "The Boxplots of several Features with Continous Values are shown above.\n",
    "The Boxplot shows the presence of much outliers for some of the features"
   ]
  },
  {
   "cell_type": "markdown",
   "metadata": {},
   "source": [
    "# Handling Features with non-numeric dtypes"
   ]
  },
  {
   "cell_type": "code",
   "execution_count": 23,
   "metadata": {},
   "outputs": [
    {
     "data": {
      "text/html": [
       "<div>\n",
       "<style scoped>\n",
       "    .dataframe tbody tr th:only-of-type {\n",
       "        vertical-align: middle;\n",
       "    }\n",
       "\n",
       "    .dataframe tbody tr th {\n",
       "        vertical-align: top;\n",
       "    }\n",
       "\n",
       "    .dataframe thead th {\n",
       "        text-align: right;\n",
       "    }\n",
       "</style>\n",
       "<table border=\"1\" class=\"dataframe\">\n",
       "  <thead>\n",
       "    <tr style=\"text-align: right;\">\n",
       "      <th></th>\n",
       "      <th>CLIENTNUM</th>\n",
       "      <th>Attrition_Flag</th>\n",
       "      <th>Education_Level</th>\n",
       "      <th>Marital_Status</th>\n",
       "      <th>Income_Category</th>\n",
       "      <th>Card_Category</th>\n",
       "    </tr>\n",
       "  </thead>\n",
       "  <tbody>\n",
       "    <tr>\n",
       "      <th>0</th>\n",
       "      <td>768805383</td>\n",
       "      <td>Existing Customer</td>\n",
       "      <td>High School</td>\n",
       "      <td>Married</td>\n",
       "      <td>$60K - $80K</td>\n",
       "      <td>Blue</td>\n",
       "    </tr>\n",
       "    <tr>\n",
       "      <th>1</th>\n",
       "      <td>818770008</td>\n",
       "      <td>Existing Customer</td>\n",
       "      <td>Graduate</td>\n",
       "      <td>Single</td>\n",
       "      <td>Less than $40K</td>\n",
       "      <td>Blue</td>\n",
       "    </tr>\n",
       "    <tr>\n",
       "      <th>2</th>\n",
       "      <td>713982108</td>\n",
       "      <td>Existing Customer</td>\n",
       "      <td>Graduate</td>\n",
       "      <td>Married</td>\n",
       "      <td>$80K - $120K</td>\n",
       "      <td>Blue</td>\n",
       "    </tr>\n",
       "    <tr>\n",
       "      <th>3</th>\n",
       "      <td>769911858</td>\n",
       "      <td>Existing Customer</td>\n",
       "      <td>High School</td>\n",
       "      <td>Unknown</td>\n",
       "      <td>Less than $40K</td>\n",
       "      <td>Blue</td>\n",
       "    </tr>\n",
       "    <tr>\n",
       "      <th>4</th>\n",
       "      <td>709106358</td>\n",
       "      <td>Existing Customer</td>\n",
       "      <td>Uneducated</td>\n",
       "      <td>Married</td>\n",
       "      <td>$60K - $80K</td>\n",
       "      <td>Blue</td>\n",
       "    </tr>\n",
       "  </tbody>\n",
       "</table>\n",
       "</div>"
      ],
      "text/plain": [
       "   CLIENTNUM     Attrition_Flag Education_Level Marital_Status  \\\n",
       "0  768805383  Existing Customer     High School        Married   \n",
       "1  818770008  Existing Customer        Graduate         Single   \n",
       "2  713982108  Existing Customer        Graduate        Married   \n",
       "3  769911858  Existing Customer     High School        Unknown   \n",
       "4  709106358  Existing Customer      Uneducated        Married   \n",
       "\n",
       "  Income_Category Card_Category  \n",
       "0     $60K - $80K          Blue  \n",
       "1  Less than $40K          Blue  \n",
       "2    $80K - $120K          Blue  \n",
       "3  Less than $40K          Blue  \n",
       "4     $60K - $80K          Blue  "
      ]
     },
     "execution_count": 23,
     "metadata": {},
     "output_type": "execute_result"
    }
   ],
   "source": [
    "object_data=data.select_dtypes('object')\n",
    "object_data.head(5)"
   ]
  },
  {
   "cell_type": "code",
   "execution_count": 24,
   "metadata": {},
   "outputs": [
    {
     "name": "stderr",
     "output_type": "stream",
     "text": [
      "/data/user/0/ru.iiec.pydroid3/files/arm-linux-androideabi/lib/python3.8/site-packages/pandas/core/generic.py:6746: SettingWithCopyWarning: \n",
      "A value is trying to be set on a copy of a slice from a DataFrame\n",
      "\n",
      "See the caveats in the documentation: https://pandas.pydata.org/pandas-docs/stable/user_guide/indexing.html#returning-a-view-versus-a-copy\n",
      "  self._update_inplace(new_data)\n"
     ]
    },
    {
     "data": {
      "text/html": [
       "<div>\n",
       "<style scoped>\n",
       "    .dataframe tbody tr th:only-of-type {\n",
       "        vertical-align: middle;\n",
       "    }\n",
       "\n",
       "    .dataframe tbody tr th {\n",
       "        vertical-align: top;\n",
       "    }\n",
       "\n",
       "    .dataframe thead th {\n",
       "        text-align: right;\n",
       "    }\n",
       "</style>\n",
       "<table border=\"1\" class=\"dataframe\">\n",
       "  <thead>\n",
       "    <tr style=\"text-align: right;\">\n",
       "      <th></th>\n",
       "      <th>CLIENTNUM</th>\n",
       "      <th>Attrition_Flag</th>\n",
       "      <th>Education_Level</th>\n",
       "      <th>Marital_Status</th>\n",
       "      <th>Income_Category</th>\n",
       "      <th>Card_Category</th>\n",
       "    </tr>\n",
       "  </thead>\n",
       "  <tbody>\n",
       "    <tr>\n",
       "      <th>0</th>\n",
       "      <td>768805383</td>\n",
       "      <td>0</td>\n",
       "      <td>2</td>\n",
       "      <td>Married</td>\n",
       "      <td>3</td>\n",
       "      <td>0</td>\n",
       "    </tr>\n",
       "    <tr>\n",
       "      <th>1</th>\n",
       "      <td>818770008</td>\n",
       "      <td>0</td>\n",
       "      <td>4</td>\n",
       "      <td>Single</td>\n",
       "      <td>0</td>\n",
       "      <td>0</td>\n",
       "    </tr>\n",
       "    <tr>\n",
       "      <th>2</th>\n",
       "      <td>713982108</td>\n",
       "      <td>0</td>\n",
       "      <td>4</td>\n",
       "      <td>Married</td>\n",
       "      <td>2</td>\n",
       "      <td>0</td>\n",
       "    </tr>\n",
       "    <tr>\n",
       "      <th>3</th>\n",
       "      <td>769911858</td>\n",
       "      <td>0</td>\n",
       "      <td>2</td>\n",
       "      <td>Unknown</td>\n",
       "      <td>0</td>\n",
       "      <td>0</td>\n",
       "    </tr>\n",
       "    <tr>\n",
       "      <th>4</th>\n",
       "      <td>709106358</td>\n",
       "      <td>0</td>\n",
       "      <td>1</td>\n",
       "      <td>Married</td>\n",
       "      <td>3</td>\n",
       "      <td>0</td>\n",
       "    </tr>\n",
       "  </tbody>\n",
       "</table>\n",
       "</div>"
      ],
      "text/plain": [
       "   CLIENTNUM  Attrition_Flag  Education_Level Marital_Status  Income_Category  \\\n",
       "0  768805383               0                2        Married                3   \n",
       "1  818770008               0                4         Single                0   \n",
       "2  713982108               0                4        Married                2   \n",
       "3  769911858               0                2        Unknown                0   \n",
       "4  709106358               0                1        Married                3   \n",
       "\n",
       "   Card_Category  \n",
       "0              0  \n",
       "1              0  \n",
       "2              0  \n",
       "3              0  \n",
       "4              0  "
      ]
     },
     "execution_count": 24,
     "metadata": {},
     "output_type": "execute_result"
    }
   ],
   "source": [
    "#1.Attrition_Flag Mapping\n",
    "object_data.Attrition_Flag.replace(['Existing Customer','Attrited Customer'],[0,1],inplace=True)\n",
    "# Card Category Mapping\n",
    "object_data.Card_Category.replace(['Blue','Silver','Gold','Platinum'],[0,1,2,3],inplace=True)\n",
    "#Income Category Mapping\n",
    "object_data.Income_Category.replace([x for x in data.Income_Category.value_counts().index],[0,1,2,3,4,5],inplace=True)\n",
    "# Education Level Mapping\n",
    "object_data.Education_Level.replace(['Unknown','Uneducated','High School','College','Graduate','Post-Graduate','Doctorate'],[0,1,2,3,4,5,6],inplace=True)\n",
    "object_data.head(5)"
   ]
  },
  {
   "cell_type": "code",
   "execution_count": 25,
   "metadata": {},
   "outputs": [
    {
     "data": {
      "text/plain": [
       "Married     4687\n",
       "Single      3943\n",
       "Unknown      749\n",
       "Divorced     748\n",
       "Name: Marital_Status, dtype: int64"
      ]
     },
     "execution_count": 25,
     "metadata": {},
     "output_type": "execute_result"
    }
   ],
   "source": [
    "data.Marital_Status.value_counts()"
   ]
  },
  {
   "cell_type": "code",
   "execution_count": 26,
   "metadata": {},
   "outputs": [
    {
     "name": "stderr",
     "output_type": "stream",
     "text": [
      "/data/user/0/ru.iiec.pydroid3/files/arm-linux-androideabi/lib/python3.8/site-packages/pandas/core/generic.py:6746: SettingWithCopyWarning: \n",
      "A value is trying to be set on a copy of a slice from a DataFrame\n",
      "\n",
      "See the caveats in the documentation: https://pandas.pydata.org/pandas-docs/stable/user_guide/indexing.html#returning-a-view-versus-a-copy\n",
      "  self._update_inplace(new_data)\n"
     ]
    },
    {
     "data": {
      "text/html": [
       "<div>\n",
       "<style scoped>\n",
       "    .dataframe tbody tr th:only-of-type {\n",
       "        vertical-align: middle;\n",
       "    }\n",
       "\n",
       "    .dataframe tbody tr th {\n",
       "        vertical-align: top;\n",
       "    }\n",
       "\n",
       "    .dataframe thead th {\n",
       "        text-align: right;\n",
       "    }\n",
       "</style>\n",
       "<table border=\"1\" class=\"dataframe\">\n",
       "  <thead>\n",
       "    <tr style=\"text-align: right;\">\n",
       "      <th></th>\n",
       "      <th>CLIENTNUM</th>\n",
       "      <th>Attrition_Flag</th>\n",
       "      <th>Education_Level</th>\n",
       "      <th>Marital_Status</th>\n",
       "      <th>Income_Category</th>\n",
       "      <th>Card_Category</th>\n",
       "    </tr>\n",
       "  </thead>\n",
       "  <tbody>\n",
       "    <tr>\n",
       "      <th>0</th>\n",
       "      <td>768805383</td>\n",
       "      <td>0</td>\n",
       "      <td>2</td>\n",
       "      <td>2</td>\n",
       "      <td>3</td>\n",
       "      <td>0</td>\n",
       "    </tr>\n",
       "    <tr>\n",
       "      <th>1</th>\n",
       "      <td>818770008</td>\n",
       "      <td>0</td>\n",
       "      <td>4</td>\n",
       "      <td>1</td>\n",
       "      <td>0</td>\n",
       "      <td>0</td>\n",
       "    </tr>\n",
       "    <tr>\n",
       "      <th>2</th>\n",
       "      <td>713982108</td>\n",
       "      <td>0</td>\n",
       "      <td>4</td>\n",
       "      <td>2</td>\n",
       "      <td>2</td>\n",
       "      <td>0</td>\n",
       "    </tr>\n",
       "    <tr>\n",
       "      <th>3</th>\n",
       "      <td>769911858</td>\n",
       "      <td>0</td>\n",
       "      <td>2</td>\n",
       "      <td>0</td>\n",
       "      <td>0</td>\n",
       "      <td>0</td>\n",
       "    </tr>\n",
       "    <tr>\n",
       "      <th>4</th>\n",
       "      <td>709106358</td>\n",
       "      <td>0</td>\n",
       "      <td>1</td>\n",
       "      <td>2</td>\n",
       "      <td>3</td>\n",
       "      <td>0</td>\n",
       "    </tr>\n",
       "  </tbody>\n",
       "</table>\n",
       "</div>"
      ],
      "text/plain": [
       "   CLIENTNUM  Attrition_Flag  Education_Level  Marital_Status  \\\n",
       "0  768805383               0                2               2   \n",
       "1  818770008               0                4               1   \n",
       "2  713982108               0                4               2   \n",
       "3  769911858               0                2               0   \n",
       "4  709106358               0                1               2   \n",
       "\n",
       "   Income_Category  Card_Category  \n",
       "0                3              0  \n",
       "1                0              0  \n",
       "2                2              0  \n",
       "3                0              0  \n",
       "4                3              0  "
      ]
     },
     "execution_count": 26,
     "metadata": {},
     "output_type": "execute_result"
    }
   ],
   "source": [
    "#Marital Status Mapping\n",
    "object_data.Marital_Status.replace(['Unknown','Single','Married','Divorced'],[0,1,2,3],inplace=True)\n",
    "object_data.head(5)"
   ]
  },
  {
   "cell_type": "code",
   "execution_count": 27,
   "metadata": {},
   "outputs": [
    {
     "data": {
      "text/html": [
       "<div>\n",
       "<style scoped>\n",
       "    .dataframe tbody tr th:only-of-type {\n",
       "        vertical-align: middle;\n",
       "    }\n",
       "\n",
       "    .dataframe tbody tr th {\n",
       "        vertical-align: top;\n",
       "    }\n",
       "\n",
       "    .dataframe thead th {\n",
       "        text-align: right;\n",
       "    }\n",
       "</style>\n",
       "<table border=\"1\" class=\"dataframe\">\n",
       "  <thead>\n",
       "    <tr style=\"text-align: right;\">\n",
       "      <th></th>\n",
       "      <th>CLIENTNUM</th>\n",
       "      <th>Attrition_Flag</th>\n",
       "      <th>Customer_Age</th>\n",
       "      <th>Gender</th>\n",
       "      <th>Dependent_count</th>\n",
       "      <th>Education_Level</th>\n",
       "      <th>Marital_Status</th>\n",
       "      <th>Income_Category</th>\n",
       "      <th>Card_Category</th>\n",
       "      <th>Months_on_book</th>\n",
       "      <th>...</th>\n",
       "      <th>Months_Inactive_12_mon</th>\n",
       "      <th>Contacts_Count_12_mon</th>\n",
       "      <th>Credit_Limit</th>\n",
       "      <th>Total_Revolving_Bal</th>\n",
       "      <th>Avg_Open_To_Buy</th>\n",
       "      <th>Total_Amt_Chng_Q4_Q1</th>\n",
       "      <th>Total_Trans_Amt</th>\n",
       "      <th>Total_Trans_Ct</th>\n",
       "      <th>Total_Ct_Chng_Q4_Q1</th>\n",
       "      <th>Avg_Utilization_Ratio</th>\n",
       "    </tr>\n",
       "  </thead>\n",
       "  <tbody>\n",
       "    <tr>\n",
       "      <th>0</th>\n",
       "      <td>768805383</td>\n",
       "      <td>0</td>\n",
       "      <td>45</td>\n",
       "      <td>1</td>\n",
       "      <td>3</td>\n",
       "      <td>2</td>\n",
       "      <td>2</td>\n",
       "      <td>3</td>\n",
       "      <td>0</td>\n",
       "      <td>39.0</td>\n",
       "      <td>...</td>\n",
       "      <td>1.0</td>\n",
       "      <td>3.0</td>\n",
       "      <td>12691.0</td>\n",
       "      <td>777.0</td>\n",
       "      <td>11914.0</td>\n",
       "      <td>1.335</td>\n",
       "      <td>1144.0</td>\n",
       "      <td>42.0</td>\n",
       "      <td>1.625</td>\n",
       "      <td>0.061</td>\n",
       "    </tr>\n",
       "    <tr>\n",
       "      <th>1</th>\n",
       "      <td>818770008</td>\n",
       "      <td>0</td>\n",
       "      <td>49</td>\n",
       "      <td>0</td>\n",
       "      <td>5</td>\n",
       "      <td>4</td>\n",
       "      <td>1</td>\n",
       "      <td>0</td>\n",
       "      <td>0</td>\n",
       "      <td>44.0</td>\n",
       "      <td>...</td>\n",
       "      <td>1.0</td>\n",
       "      <td>2.0</td>\n",
       "      <td>8256.0</td>\n",
       "      <td>864.0</td>\n",
       "      <td>7392.0</td>\n",
       "      <td>1.541</td>\n",
       "      <td>1291.0</td>\n",
       "      <td>33.0</td>\n",
       "      <td>3.714</td>\n",
       "      <td>0.105</td>\n",
       "    </tr>\n",
       "    <tr>\n",
       "      <th>2</th>\n",
       "      <td>713982108</td>\n",
       "      <td>0</td>\n",
       "      <td>51</td>\n",
       "      <td>1</td>\n",
       "      <td>3</td>\n",
       "      <td>4</td>\n",
       "      <td>2</td>\n",
       "      <td>2</td>\n",
       "      <td>0</td>\n",
       "      <td>36.0</td>\n",
       "      <td>...</td>\n",
       "      <td>1.0</td>\n",
       "      <td>0.0</td>\n",
       "      <td>3418.0</td>\n",
       "      <td>0.0</td>\n",
       "      <td>3418.0</td>\n",
       "      <td>2.594</td>\n",
       "      <td>1887.0</td>\n",
       "      <td>20.0</td>\n",
       "      <td>2.333</td>\n",
       "      <td>0.000</td>\n",
       "    </tr>\n",
       "    <tr>\n",
       "      <th>3</th>\n",
       "      <td>769911858</td>\n",
       "      <td>0</td>\n",
       "      <td>40</td>\n",
       "      <td>0</td>\n",
       "      <td>4</td>\n",
       "      <td>2</td>\n",
       "      <td>0</td>\n",
       "      <td>0</td>\n",
       "      <td>0</td>\n",
       "      <td>34.0</td>\n",
       "      <td>...</td>\n",
       "      <td>4.0</td>\n",
       "      <td>1.0</td>\n",
       "      <td>3313.0</td>\n",
       "      <td>2517.0</td>\n",
       "      <td>796.0</td>\n",
       "      <td>1.405</td>\n",
       "      <td>1171.0</td>\n",
       "      <td>20.0</td>\n",
       "      <td>2.333</td>\n",
       "      <td>0.760</td>\n",
       "    </tr>\n",
       "    <tr>\n",
       "      <th>4</th>\n",
       "      <td>709106358</td>\n",
       "      <td>0</td>\n",
       "      <td>40</td>\n",
       "      <td>1</td>\n",
       "      <td>3</td>\n",
       "      <td>1</td>\n",
       "      <td>2</td>\n",
       "      <td>3</td>\n",
       "      <td>0</td>\n",
       "      <td>21.0</td>\n",
       "      <td>...</td>\n",
       "      <td>1.0</td>\n",
       "      <td>0.0</td>\n",
       "      <td>4716.0</td>\n",
       "      <td>0.0</td>\n",
       "      <td>4716.0</td>\n",
       "      <td>2.175</td>\n",
       "      <td>816.0</td>\n",
       "      <td>28.0</td>\n",
       "      <td>2.500</td>\n",
       "      <td>0.000</td>\n",
       "    </tr>\n",
       "  </tbody>\n",
       "</table>\n",
       "<p>5 rows × 21 columns</p>\n",
       "</div>"
      ],
      "text/plain": [
       "   CLIENTNUM  Attrition_Flag  Customer_Age  Gender  Dependent_count  \\\n",
       "0  768805383               0            45       1                3   \n",
       "1  818770008               0            49       0                5   \n",
       "2  713982108               0            51       1                3   \n",
       "3  769911858               0            40       0                4   \n",
       "4  709106358               0            40       1                3   \n",
       "\n",
       "   Education_Level  Marital_Status  Income_Category  Card_Category  \\\n",
       "0                2               2                3              0   \n",
       "1                4               1                0              0   \n",
       "2                4               2                2              0   \n",
       "3                2               0                0              0   \n",
       "4                1               2                3              0   \n",
       "\n",
       "   Months_on_book  ...  Months_Inactive_12_mon  Contacts_Count_12_mon  \\\n",
       "0            39.0  ...                     1.0                    3.0   \n",
       "1            44.0  ...                     1.0                    2.0   \n",
       "2            36.0  ...                     1.0                    0.0   \n",
       "3            34.0  ...                     4.0                    1.0   \n",
       "4            21.0  ...                     1.0                    0.0   \n",
       "\n",
       "   Credit_Limit  Total_Revolving_Bal  Avg_Open_To_Buy  Total_Amt_Chng_Q4_Q1  \\\n",
       "0       12691.0                777.0          11914.0                 1.335   \n",
       "1        8256.0                864.0           7392.0                 1.541   \n",
       "2        3418.0                  0.0           3418.0                 2.594   \n",
       "3        3313.0               2517.0            796.0                 1.405   \n",
       "4        4716.0                  0.0           4716.0                 2.175   \n",
       "\n",
       "   Total_Trans_Amt  Total_Trans_Ct  Total_Ct_Chng_Q4_Q1  Avg_Utilization_Ratio  \n",
       "0           1144.0            42.0                1.625                  0.061  \n",
       "1           1291.0            33.0                3.714                  0.105  \n",
       "2           1887.0            20.0                2.333                  0.000  \n",
       "3           1171.0            20.0                2.333                  0.760  \n",
       "4            816.0            28.0                2.500                  0.000  \n",
       "\n",
       "[5 rows x 21 columns]"
      ]
     },
     "execution_count": 27,
     "metadata": {},
     "output_type": "execute_result"
    }
   ],
   "source": [
    "for x in object_data.columns:\n",
    "    data[x]=object_data[x]\n",
    "data.head(5)"
   ]
  },
  {
   "cell_type": "code",
   "execution_count": 28,
   "metadata": {},
   "outputs": [],
   "source": [
    "data.drop('CLIENTNUM',axis=1,inplace=True)"
   ]
  },
  {
   "cell_type": "code",
   "execution_count": 29,
   "metadata": {
    "scrolled": true
   },
   "outputs": [
    {
     "data": {
      "image/png": "[encoded data removed]",
      "text/plain": [
       "<Figure size 1440x1440 with 2 Axes>"
      ]
     },
     "metadata": {
      "needs_background": "light"
     },
     "output_type": "display_data"
    }
   ],
   "source": [
    "#HeatMap of correlations\n",
    "fig=plt.figure(figsize=(20,20))\n",
    "corrmat=data.corr()\n",
    "mask=np.array(corrmat)\n",
    "mask[np.tril_indices_from(mask)]=False\n",
    "sns.heatmap(corrmat,mask=mask,annot=True,vmax=1.0,square=True)\n",
    "plt.show()"
   ]
  },
  {
   "cell_type": "markdown",
   "metadata": {},
   "source": [
    "The heatmap of corelations between the features is shown above. \n",
    "From the heatmap some features shows very weak correlations with the Target varaible(Attrition_Falg) features such as Education_Level,Credit_Limit,Card_Category,Avg_Open_To_Buy.\n",
    "The Heatmap also shows perfect corrleations between Credit_Limit and Avg_Open_To_Buy,which suggests that one of the features will not be useful. Features such as Dependent_counts,Marital_Status shows weak correlation with every all other features"
   ]
  },
  {
   "cell_type": "code",
   "execution_count": 30,
   "metadata": {},
   "outputs": [
    {
     "data": {
      "text/html": [
       "<div>\n",
       "<style scoped>\n",
       "    .dataframe tbody tr th:only-of-type {\n",
       "        vertical-align: middle;\n",
       "    }\n",
       "\n",
       "    .dataframe tbody tr th {\n",
       "        vertical-align: top;\n",
       "    }\n",
       "\n",
       "    .dataframe thead th {\n",
       "        text-align: right;\n",
       "    }\n",
       "</style>\n",
       "<table border=\"1\" class=\"dataframe\">\n",
       "  <thead>\n",
       "    <tr style=\"text-align: right;\">\n",
       "      <th></th>\n",
       "      <th>Attrition_Flag</th>\n",
       "      <th>Customer_Age</th>\n",
       "      <th>Gender</th>\n",
       "      <th>Dependent_count</th>\n",
       "      <th>Education_Level</th>\n",
       "      <th>Marital_Status</th>\n",
       "      <th>Income_Category</th>\n",
       "      <th>Card_Category</th>\n",
       "      <th>Months_on_book</th>\n",
       "      <th>Total_Relationship_Count</th>\n",
       "      <th>...</th>\n",
       "      <th>Contacts_Count_12_mon</th>\n",
       "      <th>Credit_Limit</th>\n",
       "      <th>Total_Revolving_Bal</th>\n",
       "      <th>Avg_Open_To_Buy</th>\n",
       "      <th>Total_Amt_Chng_Q4_Q1</th>\n",
       "      <th>Total_Trans_Amt</th>\n",
       "      <th>Total_Trans_Ct</th>\n",
       "      <th>Total_Ct_Chng_Q4_Q1</th>\n",
       "      <th>Avg_Utilization_Ratio</th>\n",
       "      <th>Avg_per_Total_Rev</th>\n",
       "    </tr>\n",
       "  </thead>\n",
       "  <tbody>\n",
       "    <tr>\n",
       "      <th>0</th>\n",
       "      <td>0</td>\n",
       "      <td>45</td>\n",
       "      <td>1</td>\n",
       "      <td>3</td>\n",
       "      <td>2</td>\n",
       "      <td>2</td>\n",
       "      <td>3</td>\n",
       "      <td>0</td>\n",
       "      <td>39.0</td>\n",
       "      <td>5.0</td>\n",
       "      <td>...</td>\n",
       "      <td>3.0</td>\n",
       "      <td>12691.0</td>\n",
       "      <td>777.0</td>\n",
       "      <td>11914.0</td>\n",
       "      <td>1.335</td>\n",
       "      <td>1144.0</td>\n",
       "      <td>42.0</td>\n",
       "      <td>1.625</td>\n",
       "      <td>0.061</td>\n",
       "      <td>15.314</td>\n",
       "    </tr>\n",
       "    <tr>\n",
       "      <th>1</th>\n",
       "      <td>0</td>\n",
       "      <td>49</td>\n",
       "      <td>0</td>\n",
       "      <td>5</td>\n",
       "      <td>4</td>\n",
       "      <td>1</td>\n",
       "      <td>0</td>\n",
       "      <td>0</td>\n",
       "      <td>44.0</td>\n",
       "      <td>6.0</td>\n",
       "      <td>...</td>\n",
       "      <td>2.0</td>\n",
       "      <td>8256.0</td>\n",
       "      <td>864.0</td>\n",
       "      <td>7392.0</td>\n",
       "      <td>1.541</td>\n",
       "      <td>1291.0</td>\n",
       "      <td>33.0</td>\n",
       "      <td>3.714</td>\n",
       "      <td>0.105</td>\n",
       "      <td>8.546</td>\n",
       "    </tr>\n",
       "    <tr>\n",
       "      <th>2</th>\n",
       "      <td>0</td>\n",
       "      <td>51</td>\n",
       "      <td>1</td>\n",
       "      <td>3</td>\n",
       "      <td>4</td>\n",
       "      <td>2</td>\n",
       "      <td>2</td>\n",
       "      <td>0</td>\n",
       "      <td>36.0</td>\n",
       "      <td>4.0</td>\n",
       "      <td>...</td>\n",
       "      <td>0.0</td>\n",
       "      <td>3418.0</td>\n",
       "      <td>0.0</td>\n",
       "      <td>3418.0</td>\n",
       "      <td>2.594</td>\n",
       "      <td>1887.0</td>\n",
       "      <td>20.0</td>\n",
       "      <td>2.333</td>\n",
       "      <td>0.000</td>\n",
       "      <td>3418.000</td>\n",
       "    </tr>\n",
       "    <tr>\n",
       "      <th>3</th>\n",
       "      <td>0</td>\n",
       "      <td>40</td>\n",
       "      <td>0</td>\n",
       "      <td>4</td>\n",
       "      <td>2</td>\n",
       "      <td>0</td>\n",
       "      <td>0</td>\n",
       "      <td>0</td>\n",
       "      <td>34.0</td>\n",
       "      <td>3.0</td>\n",
       "      <td>...</td>\n",
       "      <td>1.0</td>\n",
       "      <td>3313.0</td>\n",
       "      <td>2517.0</td>\n",
       "      <td>796.0</td>\n",
       "      <td>1.405</td>\n",
       "      <td>1171.0</td>\n",
       "      <td>20.0</td>\n",
       "      <td>2.333</td>\n",
       "      <td>0.760</td>\n",
       "      <td>0.316</td>\n",
       "    </tr>\n",
       "    <tr>\n",
       "      <th>4</th>\n",
       "      <td>0</td>\n",
       "      <td>40</td>\n",
       "      <td>1</td>\n",
       "      <td>3</td>\n",
       "      <td>1</td>\n",
       "      <td>2</td>\n",
       "      <td>3</td>\n",
       "      <td>0</td>\n",
       "      <td>21.0</td>\n",
       "      <td>5.0</td>\n",
       "      <td>...</td>\n",
       "      <td>0.0</td>\n",
       "      <td>4716.0</td>\n",
       "      <td>0.0</td>\n",
       "      <td>4716.0</td>\n",
       "      <td>2.175</td>\n",
       "      <td>816.0</td>\n",
       "      <td>28.0</td>\n",
       "      <td>2.500</td>\n",
       "      <td>0.000</td>\n",
       "      <td>4716.000</td>\n",
       "    </tr>\n",
       "  </tbody>\n",
       "</table>\n",
       "<p>5 rows × 21 columns</p>\n",
       "</div>"
      ],
      "text/plain": [
       "   Attrition_Flag  Customer_Age  Gender  Dependent_count  Education_Level  \\\n",
       "0               0            45       1                3                2   \n",
       "1               0            49       0                5                4   \n",
       "2               0            51       1                3                4   \n",
       "3               0            40       0                4                2   \n",
       "4               0            40       1                3                1   \n",
       "\n",
       "   Marital_Status  Income_Category  Card_Category  Months_on_book  \\\n",
       "0               2                3              0            39.0   \n",
       "1               1                0              0            44.0   \n",
       "2               2                2              0            36.0   \n",
       "3               0                0              0            34.0   \n",
       "4               2                3              0            21.0   \n",
       "\n",
       "   Total_Relationship_Count  ...  Contacts_Count_12_mon  Credit_Limit  \\\n",
       "0                       5.0  ...                    3.0       12691.0   \n",
       "1                       6.0  ...                    2.0        8256.0   \n",
       "2                       4.0  ...                    0.0        3418.0   \n",
       "3                       3.0  ...                    1.0        3313.0   \n",
       "4                       5.0  ...                    0.0        4716.0   \n",
       "\n",
       "   Total_Revolving_Bal  Avg_Open_To_Buy  Total_Amt_Chng_Q4_Q1  \\\n",
       "0                777.0          11914.0                 1.335   \n",
       "1                864.0           7392.0                 1.541   \n",
       "2                  0.0           3418.0                 2.594   \n",
       "3               2517.0            796.0                 1.405   \n",
       "4                  0.0           4716.0                 2.175   \n",
       "\n",
       "   Total_Trans_Amt  Total_Trans_Ct  Total_Ct_Chng_Q4_Q1  \\\n",
       "0           1144.0            42.0                1.625   \n",
       "1           1291.0            33.0                3.714   \n",
       "2           1887.0            20.0                2.333   \n",
       "3           1171.0            20.0                2.333   \n",
       "4            816.0            28.0                2.500   \n",
       "\n",
       "   Avg_Utilization_Ratio  Avg_per_Total_Rev  \n",
       "0                  0.061             15.314  \n",
       "1                  0.105              8.546  \n",
       "2                  0.000           3418.000  \n",
       "3                  0.760              0.316  \n",
       "4                  0.000           4716.000  \n",
       "\n",
       "[5 rows x 21 columns]"
      ]
     },
     "execution_count": 30,
     "metadata": {},
     "output_type": "execute_result"
    }
   ],
   "source": [
    "data['Avg_per_Total_Rev']=round(data['Avg_Open_To_Buy']/(data['Total_Revolving_Bal']+1),3)\n",
    "data.head(5)"
   ]
  },
  {
   "cell_type": "code",
   "execution_count": 31,
   "metadata": {},
   "outputs": [],
   "source": [
    "data['Avg_per_Total_Trans']=round((data['Avg_Open_To_Buy']+1)/(1+data['Total_Trans_Amt']),3)"
   ]
  },
  {
   "cell_type": "code",
   "execution_count": 51,
   "metadata": {},
   "outputs": [
    {
     "data": {
      "text/html": [
       "<div>\n",
       "<style scoped>\n",
       "    .dataframe tbody tr th:only-of-type {\n",
       "        vertical-align: middle;\n",
       "    }\n",
       "\n",
       "    .dataframe tbody tr th {\n",
       "        vertical-align: top;\n",
       "    }\n",
       "\n",
       "    .dataframe thead th {\n",
       "        text-align: right;\n",
       "    }\n",
       "</style>\n",
       "<table border=\"1\" class=\"dataframe\">\n",
       "  <thead>\n",
       "    <tr style=\"text-align: right;\">\n",
       "      <th></th>\n",
       "      <th>Attrition_Flag</th>\n",
       "      <th>Customer_Age</th>\n",
       "      <th>Gender</th>\n",
       "      <th>Income_Category</th>\n",
       "      <th>Months_on_book</th>\n",
       "      <th>Total_Relationship_Count</th>\n",
       "      <th>Months_Inactive_12_mon</th>\n",
       "      <th>Contacts_Count_12_mon</th>\n",
       "      <th>Credit_Limit</th>\n",
       "      <th>Total_Revolving_Bal</th>\n",
       "      <th>Total_Amt_Chng_Q4_Q1</th>\n",
       "      <th>Total_Trans_Amt</th>\n",
       "      <th>Total_Trans_Ct</th>\n",
       "      <th>Total_Ct_Chng_Q4_Q1</th>\n",
       "      <th>Avg_Utilization_Ratio</th>\n",
       "      <th>Avg_per_Total_Rev</th>\n",
       "      <th>Avg_per_Total_Trans</th>\n",
       "    </tr>\n",
       "  </thead>\n",
       "  <tbody>\n",
       "    <tr>\n",
       "      <th>0</th>\n",
       "      <td>0</td>\n",
       "      <td>1.662758</td>\n",
       "      <td>1</td>\n",
       "      <td>3</td>\n",
       "      <td>1.602060</td>\n",
       "      <td>0.778151</td>\n",
       "      <td>1.0</td>\n",
       "      <td>3.0</td>\n",
       "      <td>4.103530</td>\n",
       "      <td>2.890980</td>\n",
       "      <td>1.335</td>\n",
       "      <td>3.058805</td>\n",
       "      <td>1.633468</td>\n",
       "      <td>1.625</td>\n",
       "      <td>0.061</td>\n",
       "      <td>1.212560</td>\n",
       "      <td>1.057133</td>\n",
       "    </tr>\n",
       "    <tr>\n",
       "      <th>1</th>\n",
       "      <td>0</td>\n",
       "      <td>1.698970</td>\n",
       "      <td>0</td>\n",
       "      <td>0</td>\n",
       "      <td>1.653213</td>\n",
       "      <td>0.845098</td>\n",
       "      <td>1.0</td>\n",
       "      <td>2.0</td>\n",
       "      <td>3.916822</td>\n",
       "      <td>2.937016</td>\n",
       "      <td>1.541</td>\n",
       "      <td>3.111263</td>\n",
       "      <td>1.531479</td>\n",
       "      <td>3.714</td>\n",
       "      <td>0.105</td>\n",
       "      <td>0.979821</td>\n",
       "      <td>0.827499</td>\n",
       "    </tr>\n",
       "    <tr>\n",
       "      <th>2</th>\n",
       "      <td>0</td>\n",
       "      <td>1.716003</td>\n",
       "      <td>1</td>\n",
       "      <td>2</td>\n",
       "      <td>1.568202</td>\n",
       "      <td>0.698970</td>\n",
       "      <td>1.0</td>\n",
       "      <td>0.0</td>\n",
       "      <td>3.533899</td>\n",
       "      <td>0.000000</td>\n",
       "      <td>2.594</td>\n",
       "      <td>3.276002</td>\n",
       "      <td>1.322219</td>\n",
       "      <td>2.333</td>\n",
       "      <td>0.000</td>\n",
       "      <td>3.533899</td>\n",
       "      <td>0.448861</td>\n",
       "    </tr>\n",
       "    <tr>\n",
       "      <th>3</th>\n",
       "      <td>0</td>\n",
       "      <td>1.612784</td>\n",
       "      <td>0</td>\n",
       "      <td>0</td>\n",
       "      <td>1.544068</td>\n",
       "      <td>0.602060</td>\n",
       "      <td>4.0</td>\n",
       "      <td>1.0</td>\n",
       "      <td>3.520353</td>\n",
       "      <td>3.401056</td>\n",
       "      <td>1.405</td>\n",
       "      <td>3.068928</td>\n",
       "      <td>1.322219</td>\n",
       "      <td>2.333</td>\n",
       "      <td>0.760</td>\n",
       "      <td>0.119256</td>\n",
       "      <td>0.225309</td>\n",
       "    </tr>\n",
       "    <tr>\n",
       "      <th>4</th>\n",
       "      <td>0</td>\n",
       "      <td>1.612784</td>\n",
       "      <td>1</td>\n",
       "      <td>3</td>\n",
       "      <td>1.342423</td>\n",
       "      <td>0.778151</td>\n",
       "      <td>1.0</td>\n",
       "      <td>0.0</td>\n",
       "      <td>3.673666</td>\n",
       "      <td>0.000000</td>\n",
       "      <td>2.175</td>\n",
       "      <td>2.912222</td>\n",
       "      <td>1.462398</td>\n",
       "      <td>2.500</td>\n",
       "      <td>0.000</td>\n",
       "      <td>3.673666</td>\n",
       "      <td>0.830845</td>\n",
       "    </tr>\n",
       "  </tbody>\n",
       "</table>\n",
       "</div>"
      ],
      "text/plain": [
       "   Attrition_Flag  Customer_Age  Gender  Income_Category  Months_on_book  \\\n",
       "0               0      1.662758       1                3        1.602060   \n",
       "1               0      1.698970       0                0        1.653213   \n",
       "2               0      1.716003       1                2        1.568202   \n",
       "3               0      1.612784       0                0        1.544068   \n",
       "4               0      1.612784       1                3        1.342423   \n",
       "\n",
       "   Total_Relationship_Count  Months_Inactive_12_mon  Contacts_Count_12_mon  \\\n",
       "0                  0.778151                     1.0                    3.0   \n",
       "1                  0.845098                     1.0                    2.0   \n",
       "2                  0.698970                     1.0                    0.0   \n",
       "3                  0.602060                     4.0                    1.0   \n",
       "4                  0.778151                     1.0                    0.0   \n",
       "\n",
       "   Credit_Limit  Total_Revolving_Bal  Total_Amt_Chng_Q4_Q1  Total_Trans_Amt  \\\n",
       "0      4.103530             2.890980                 1.335         3.058805   \n",
       "1      3.916822             2.937016                 1.541         3.111263   \n",
       "2      3.533899             0.000000                 2.594         3.276002   \n",
       "3      3.520353             3.401056                 1.405         3.068928   \n",
       "4      3.673666             0.000000                 2.175         2.912222   \n",
       "\n",
       "   Total_Trans_Ct  Total_Ct_Chng_Q4_Q1  Avg_Utilization_Ratio  \\\n",
       "0        1.633468                1.625                  0.061   \n",
       "1        1.531479                3.714                  0.105   \n",
       "2        1.322219                2.333                  0.000   \n",
       "3        1.322219                2.333                  0.760   \n",
       "4        1.462398                2.500                  0.000   \n",
       "\n",
       "   Avg_per_Total_Rev  Avg_per_Total_Trans  \n",
       "0           1.212560             1.057133  \n",
       "1           0.979821             0.827499  \n",
       "2           3.533899             0.448861  \n",
       "3           0.119256             0.225309  \n",
       "4           3.673666             0.830845  "
      ]
     },
     "execution_count": 51,
     "metadata": {},
     "output_type": "execute_result"
    }
   ],
   "source": [
    "data.head(5)"
   ]
  },
  {
   "cell_type": "code",
   "execution_count": 33,
   "metadata": {},
   "outputs": [
    {
     "data": {
      "text/html": [
       "<div>\n",
       "<style scoped>\n",
       "    .dataframe tbody tr th:only-of-type {\n",
       "        vertical-align: middle;\n",
       "    }\n",
       "\n",
       "    .dataframe tbody tr th {\n",
       "        vertical-align: top;\n",
       "    }\n",
       "\n",
       "    .dataframe thead th {\n",
       "        text-align: right;\n",
       "    }\n",
       "</style>\n",
       "<table border=\"1\" class=\"dataframe\">\n",
       "  <thead>\n",
       "    <tr style=\"text-align: right;\">\n",
       "      <th></th>\n",
       "      <th>Attrition_Flag</th>\n",
       "      <th>Customer_Age</th>\n",
       "      <th>Gender</th>\n",
       "      <th>Income_Category</th>\n",
       "      <th>Months_on_book</th>\n",
       "      <th>Total_Relationship_Count</th>\n",
       "      <th>Months_Inactive_12_mon</th>\n",
       "      <th>Contacts_Count_12_mon</th>\n",
       "      <th>Credit_Limit</th>\n",
       "      <th>Total_Revolving_Bal</th>\n",
       "      <th>Total_Amt_Chng_Q4_Q1</th>\n",
       "      <th>Total_Trans_Amt</th>\n",
       "      <th>Total_Trans_Ct</th>\n",
       "      <th>Total_Ct_Chng_Q4_Q1</th>\n",
       "      <th>Avg_Utilization_Ratio</th>\n",
       "      <th>Avg_per_Total_Rev</th>\n",
       "      <th>Avg_per_Total_Trans</th>\n",
       "    </tr>\n",
       "  </thead>\n",
       "  <tbody>\n",
       "    <tr>\n",
       "      <th>0</th>\n",
       "      <td>0</td>\n",
       "      <td>45</td>\n",
       "      <td>1</td>\n",
       "      <td>3</td>\n",
       "      <td>39.0</td>\n",
       "      <td>5.0</td>\n",
       "      <td>1.0</td>\n",
       "      <td>3.0</td>\n",
       "      <td>12691.0</td>\n",
       "      <td>777.0</td>\n",
       "      <td>1.335</td>\n",
       "      <td>1144.0</td>\n",
       "      <td>42.0</td>\n",
       "      <td>1.625</td>\n",
       "      <td>0.061</td>\n",
       "      <td>15.314</td>\n",
       "      <td>10.406</td>\n",
       "    </tr>\n",
       "    <tr>\n",
       "      <th>1</th>\n",
       "      <td>0</td>\n",
       "      <td>49</td>\n",
       "      <td>0</td>\n",
       "      <td>0</td>\n",
       "      <td>44.0</td>\n",
       "      <td>6.0</td>\n",
       "      <td>1.0</td>\n",
       "      <td>2.0</td>\n",
       "      <td>8256.0</td>\n",
       "      <td>864.0</td>\n",
       "      <td>1.541</td>\n",
       "      <td>1291.0</td>\n",
       "      <td>33.0</td>\n",
       "      <td>3.714</td>\n",
       "      <td>0.105</td>\n",
       "      <td>8.546</td>\n",
       "      <td>5.722</td>\n",
       "    </tr>\n",
       "    <tr>\n",
       "      <th>2</th>\n",
       "      <td>0</td>\n",
       "      <td>51</td>\n",
       "      <td>1</td>\n",
       "      <td>2</td>\n",
       "      <td>36.0</td>\n",
       "      <td>4.0</td>\n",
       "      <td>1.0</td>\n",
       "      <td>0.0</td>\n",
       "      <td>3418.0</td>\n",
       "      <td>0.0</td>\n",
       "      <td>2.594</td>\n",
       "      <td>1887.0</td>\n",
       "      <td>20.0</td>\n",
       "      <td>2.333</td>\n",
       "      <td>0.000</td>\n",
       "      <td>3418.000</td>\n",
       "      <td>1.811</td>\n",
       "    </tr>\n",
       "    <tr>\n",
       "      <th>3</th>\n",
       "      <td>0</td>\n",
       "      <td>40</td>\n",
       "      <td>0</td>\n",
       "      <td>0</td>\n",
       "      <td>34.0</td>\n",
       "      <td>3.0</td>\n",
       "      <td>4.0</td>\n",
       "      <td>1.0</td>\n",
       "      <td>3313.0</td>\n",
       "      <td>2517.0</td>\n",
       "      <td>1.405</td>\n",
       "      <td>1171.0</td>\n",
       "      <td>20.0</td>\n",
       "      <td>2.333</td>\n",
       "      <td>0.760</td>\n",
       "      <td>0.316</td>\n",
       "      <td>0.680</td>\n",
       "    </tr>\n",
       "    <tr>\n",
       "      <th>4</th>\n",
       "      <td>0</td>\n",
       "      <td>40</td>\n",
       "      <td>1</td>\n",
       "      <td>3</td>\n",
       "      <td>21.0</td>\n",
       "      <td>5.0</td>\n",
       "      <td>1.0</td>\n",
       "      <td>0.0</td>\n",
       "      <td>4716.0</td>\n",
       "      <td>0.0</td>\n",
       "      <td>2.175</td>\n",
       "      <td>816.0</td>\n",
       "      <td>28.0</td>\n",
       "      <td>2.500</td>\n",
       "      <td>0.000</td>\n",
       "      <td>4716.000</td>\n",
       "      <td>5.774</td>\n",
       "    </tr>\n",
       "  </tbody>\n",
       "</table>\n",
       "</div>"
      ],
      "text/plain": [
       "   Attrition_Flag  Customer_Age  Gender  Income_Category  Months_on_book  \\\n",
       "0               0            45       1                3            39.0   \n",
       "1               0            49       0                0            44.0   \n",
       "2               0            51       1                2            36.0   \n",
       "3               0            40       0                0            34.0   \n",
       "4               0            40       1                3            21.0   \n",
       "\n",
       "   Total_Relationship_Count  Months_Inactive_12_mon  Contacts_Count_12_mon  \\\n",
       "0                       5.0                     1.0                    3.0   \n",
       "1                       6.0                     1.0                    2.0   \n",
       "2                       4.0                     1.0                    0.0   \n",
       "3                       3.0                     4.0                    1.0   \n",
       "4                       5.0                     1.0                    0.0   \n",
       "\n",
       "   Credit_Limit  Total_Revolving_Bal  Total_Amt_Chng_Q4_Q1  Total_Trans_Amt  \\\n",
       "0       12691.0                777.0                 1.335           1144.0   \n",
       "1        8256.0                864.0                 1.541           1291.0   \n",
       "2        3418.0                  0.0                 2.594           1887.0   \n",
       "3        3313.0               2517.0                 1.405           1171.0   \n",
       "4        4716.0                  0.0                 2.175            816.0   \n",
       "\n",
       "   Total_Trans_Ct  Total_Ct_Chng_Q4_Q1  Avg_Utilization_Ratio  \\\n",
       "0            42.0                1.625                  0.061   \n",
       "1            33.0                3.714                  0.105   \n",
       "2            20.0                2.333                  0.000   \n",
       "3            20.0                2.333                  0.760   \n",
       "4            28.0                2.500                  0.000   \n",
       "\n",
       "   Avg_per_Total_Rev  Avg_per_Total_Trans  \n",
       "0             15.314               10.406  \n",
       "1              8.546                5.722  \n",
       "2           3418.000                1.811  \n",
       "3              0.316                0.680  \n",
       "4           4716.000                5.774  "
      ]
     },
     "execution_count": 33,
     "metadata": {},
     "output_type": "execute_result"
    }
   ],
   "source": [
    "#Droping some features\n",
    "data.drop(['Avg_Open_To_Buy','Marital_Status','Education_Level','Card_Category','Dependent_count'],axis=1,inplace=True)\n",
    "data.head(5)"
   ]
  },
  {
   "cell_type": "code",
   "execution_count": 34,
   "metadata": {},
   "outputs": [
    {
     "data": {
      "text/html": [
       "<div>\n",
       "<style scoped>\n",
       "    .dataframe tbody tr th:only-of-type {\n",
       "        vertical-align: middle;\n",
       "    }\n",
       "\n",
       "    .dataframe tbody tr th {\n",
       "        vertical-align: top;\n",
       "    }\n",
       "\n",
       "    .dataframe thead th {\n",
       "        text-align: right;\n",
       "    }\n",
       "</style>\n",
       "<table border=\"1\" class=\"dataframe\">\n",
       "  <thead>\n",
       "    <tr style=\"text-align: right;\">\n",
       "      <th></th>\n",
       "      <th>Attrition_Flag</th>\n",
       "      <th>Customer_Age</th>\n",
       "      <th>Gender</th>\n",
       "      <th>Income_Category</th>\n",
       "      <th>Months_on_book</th>\n",
       "      <th>Total_Relationship_Count</th>\n",
       "      <th>Months_Inactive_12_mon</th>\n",
       "      <th>Contacts_Count_12_mon</th>\n",
       "      <th>Credit_Limit</th>\n",
       "      <th>Total_Revolving_Bal</th>\n",
       "      <th>Total_Amt_Chng_Q4_Q1</th>\n",
       "      <th>Total_Trans_Amt</th>\n",
       "      <th>Total_Trans_Ct</th>\n",
       "      <th>Total_Ct_Chng_Q4_Q1</th>\n",
       "      <th>Avg_Utilization_Ratio</th>\n",
       "      <th>Avg_per_Total_Rev</th>\n",
       "      <th>Avg_per_Total_Trans</th>\n",
       "    </tr>\n",
       "  </thead>\n",
       "  <tbody>\n",
       "    <tr>\n",
       "      <th>0</th>\n",
       "      <td>0</td>\n",
       "      <td>1.662758</td>\n",
       "      <td>1</td>\n",
       "      <td>3</td>\n",
       "      <td>1.602060</td>\n",
       "      <td>0.778151</td>\n",
       "      <td>1.0</td>\n",
       "      <td>3.0</td>\n",
       "      <td>4.103530</td>\n",
       "      <td>2.890980</td>\n",
       "      <td>1.335</td>\n",
       "      <td>3.058805</td>\n",
       "      <td>1.633468</td>\n",
       "      <td>1.625</td>\n",
       "      <td>0.061</td>\n",
       "      <td>1.212560</td>\n",
       "      <td>1.057133</td>\n",
       "    </tr>\n",
       "    <tr>\n",
       "      <th>1</th>\n",
       "      <td>0</td>\n",
       "      <td>1.698970</td>\n",
       "      <td>0</td>\n",
       "      <td>0</td>\n",
       "      <td>1.653213</td>\n",
       "      <td>0.845098</td>\n",
       "      <td>1.0</td>\n",
       "      <td>2.0</td>\n",
       "      <td>3.916822</td>\n",
       "      <td>2.937016</td>\n",
       "      <td>1.541</td>\n",
       "      <td>3.111263</td>\n",
       "      <td>1.531479</td>\n",
       "      <td>3.714</td>\n",
       "      <td>0.105</td>\n",
       "      <td>0.979821</td>\n",
       "      <td>0.827499</td>\n",
       "    </tr>\n",
       "    <tr>\n",
       "      <th>2</th>\n",
       "      <td>0</td>\n",
       "      <td>1.716003</td>\n",
       "      <td>1</td>\n",
       "      <td>2</td>\n",
       "      <td>1.568202</td>\n",
       "      <td>0.698970</td>\n",
       "      <td>1.0</td>\n",
       "      <td>0.0</td>\n",
       "      <td>3.533899</td>\n",
       "      <td>0.000000</td>\n",
       "      <td>2.594</td>\n",
       "      <td>3.276002</td>\n",
       "      <td>1.322219</td>\n",
       "      <td>2.333</td>\n",
       "      <td>0.000</td>\n",
       "      <td>3.533899</td>\n",
       "      <td>0.448861</td>\n",
       "    </tr>\n",
       "    <tr>\n",
       "      <th>3</th>\n",
       "      <td>0</td>\n",
       "      <td>1.612784</td>\n",
       "      <td>0</td>\n",
       "      <td>0</td>\n",
       "      <td>1.544068</td>\n",
       "      <td>0.602060</td>\n",
       "      <td>4.0</td>\n",
       "      <td>1.0</td>\n",
       "      <td>3.520353</td>\n",
       "      <td>3.401056</td>\n",
       "      <td>1.405</td>\n",
       "      <td>3.068928</td>\n",
       "      <td>1.322219</td>\n",
       "      <td>2.333</td>\n",
       "      <td>0.760</td>\n",
       "      <td>0.119256</td>\n",
       "      <td>0.225309</td>\n",
       "    </tr>\n",
       "    <tr>\n",
       "      <th>4</th>\n",
       "      <td>0</td>\n",
       "      <td>1.612784</td>\n",
       "      <td>1</td>\n",
       "      <td>3</td>\n",
       "      <td>1.342423</td>\n",
       "      <td>0.778151</td>\n",
       "      <td>1.0</td>\n",
       "      <td>0.0</td>\n",
       "      <td>3.673666</td>\n",
       "      <td>0.000000</td>\n",
       "      <td>2.175</td>\n",
       "      <td>2.912222</td>\n",
       "      <td>1.462398</td>\n",
       "      <td>2.500</td>\n",
       "      <td>0.000</td>\n",
       "      <td>3.673666</td>\n",
       "      <td>0.830845</td>\n",
       "    </tr>\n",
       "  </tbody>\n",
       "</table>\n",
       "</div>"
      ],
      "text/plain": [
       "   Attrition_Flag  Customer_Age  Gender  Income_Category  Months_on_book  \\\n",
       "0               0      1.662758       1                3        1.602060   \n",
       "1               0      1.698970       0                0        1.653213   \n",
       "2               0      1.716003       1                2        1.568202   \n",
       "3               0      1.612784       0                0        1.544068   \n",
       "4               0      1.612784       1                3        1.342423   \n",
       "\n",
       "   Total_Relationship_Count  Months_Inactive_12_mon  Contacts_Count_12_mon  \\\n",
       "0                  0.778151                     1.0                    3.0   \n",
       "1                  0.845098                     1.0                    2.0   \n",
       "2                  0.698970                     1.0                    0.0   \n",
       "3                  0.602060                     4.0                    1.0   \n",
       "4                  0.778151                     1.0                    0.0   \n",
       "\n",
       "   Credit_Limit  Total_Revolving_Bal  Total_Amt_Chng_Q4_Q1  Total_Trans_Amt  \\\n",
       "0      4.103530             2.890980                 1.335         3.058805   \n",
       "1      3.916822             2.937016                 1.541         3.111263   \n",
       "2      3.533899             0.000000                 2.594         3.276002   \n",
       "3      3.520353             3.401056                 1.405         3.068928   \n",
       "4      3.673666             0.000000                 2.175         2.912222   \n",
       "\n",
       "   Total_Trans_Ct  Total_Ct_Chng_Q4_Q1  Avg_Utilization_Ratio  \\\n",
       "0        1.633468                1.625                  0.061   \n",
       "1        1.531479                3.714                  0.105   \n",
       "2        1.322219                2.333                  0.000   \n",
       "3        1.322219                2.333                  0.760   \n",
       "4        1.462398                2.500                  0.000   \n",
       "\n",
       "   Avg_per_Total_Rev  Avg_per_Total_Trans  \n",
       "0           1.212560             1.057133  \n",
       "1           0.979821             0.827499  \n",
       "2           3.533899             0.448861  \n",
       "3           0.119256             0.225309  \n",
       "4           3.673666             0.830845  "
      ]
     },
     "execution_count": 34,
     "metadata": {},
     "output_type": "execute_result"
    }
   ],
   "source": [
    "#Taking the Log of some features\n",
    "col=['Credit_Limit','Customer_Age','Months_on_book','Total_Relationship_Count','Total_Revolving_Bal','Total_Trans_Amt','Total_Trans_Ct','Avg_per_Total_Rev','Avg_per_Total_Trans']\n",
    "for x in col:\n",
    "    data[x]=np.log10(data[x]+1)\n",
    "data.head(5)"
   ]
  },
  {
   "cell_type": "markdown",
   "metadata": {},
   "source": [
    "The features contains values of varying magnitude. Values with higher magnitudes will have higher weights when buildingodels for this reason Features with higher magnitudes were transformed to the log to base 10 of their values to shrink their weights and put them on par with other features to prevent overfitting"
   ]
  },
  {
   "cell_type": "code",
   "execution_count": 35,
   "metadata": {
    "scrolled": true
   },
   "outputs": [
    {
     "data": {
      "image/png": "[encoded data removed]",
      "text/plain": [
       "<Figure size 1080x1080 with 2 Axes>"
      ]
     },
     "metadata": {
      "needs_background": "light"
     },
     "output_type": "display_data"
    }
   ],
   "source": [
    "#HeatMap of Transformed features correlations\n",
    "fig=plt.figure(figsize=(15,15))\n",
    "corrmat=data.corr()\n",
    "mask=np.array(corrmat)\n",
    "mask[np.tril_indices_from(mask)]=False\n",
    "sns.heatmap(corrmat,mask=mask,annot=True,vmax=1.0,square=True)\n",
    "plt.title('Heatmap Of Transformed Features Correlation',size=30)\n",
    "plt.show()"
   ]
  },
  {
   "cell_type": "markdown",
   "metadata": {},
   "source": [
    "Heatmap of Transformed and Extracted Features is shown above"
   ]
  },
  {
   "cell_type": "code",
   "execution_count": 36,
   "metadata": {},
   "outputs": [
    {
     "name": "stdout",
     "output_type": "stream",
     "text": [
      "Train (8101, 17) \n",
      " Test (2026, 17)\n"
     ]
    }
   ],
   "source": [
    "#Split the Data Into test and train using StratifiedShuffleSplit\n",
    "from sklearn.model_selection import StratifiedShuffleSplit as sss\n",
    "split=sss(n_splits=1,test_size=0.20,random_state=42)\n",
    "for x,y in split.split(data,data['Attrition_Flag']):\n",
    "    train=data.loc[x];test=data.loc[y]\n",
    "print('Train',train.shape,'\\n','Test',test.shape)"
   ]
  },
  {
   "cell_type": "code",
   "execution_count": 37,
   "metadata": {},
   "outputs": [
    {
     "data": {
      "text/plain": [
       "(8101,)"
      ]
     },
     "execution_count": 37,
     "metadata": {},
     "output_type": "execute_result"
    }
   ],
   "source": [
    "#Extracting Target Features of Train and Test\n",
    "y_train=train.Attrition_Flag.values\n",
    "y_test=test.Attrition_Flag.values\n",
    "train.drop('Attrition_Flag',axis=1,inplace=True)\n",
    "test.drop('Attrition_Flag',axis=1,inplace=True)\n",
    "y_train.shape"
   ]
  },
  {
   "cell_type": "code",
   "execution_count": 38,
   "metadata": {},
   "outputs": [
    {
     "data": {
      "text/html": [
       "<div>\n",
       "<style scoped>\n",
       "    .dataframe tbody tr th:only-of-type {\n",
       "        vertical-align: middle;\n",
       "    }\n",
       "\n",
       "    .dataframe tbody tr th {\n",
       "        vertical-align: top;\n",
       "    }\n",
       "\n",
       "    .dataframe thead th {\n",
       "        text-align: right;\n",
       "    }\n",
       "</style>\n",
       "<table border=\"1\" class=\"dataframe\">\n",
       "  <thead>\n",
       "    <tr style=\"text-align: right;\">\n",
       "      <th></th>\n",
       "      <th>Customer_Age</th>\n",
       "      <th>Gender</th>\n",
       "      <th>Income_Category</th>\n",
       "      <th>Months_on_book</th>\n",
       "      <th>Total_Relationship_Count</th>\n",
       "      <th>Months_Inactive_12_mon</th>\n",
       "      <th>Contacts_Count_12_mon</th>\n",
       "      <th>Credit_Limit</th>\n",
       "      <th>Total_Revolving_Bal</th>\n",
       "      <th>Total_Amt_Chng_Q4_Q1</th>\n",
       "      <th>Total_Trans_Amt</th>\n",
       "      <th>Total_Trans_Ct</th>\n",
       "      <th>Total_Ct_Chng_Q4_Q1</th>\n",
       "      <th>Avg_Utilization_Ratio</th>\n",
       "      <th>Avg_per_Total_Rev</th>\n",
       "      <th>Avg_per_Total_Trans</th>\n",
       "    </tr>\n",
       "  </thead>\n",
       "  <tbody>\n",
       "    <tr>\n",
       "      <th>2856</th>\n",
       "      <td>1.568202</td>\n",
       "      <td>0</td>\n",
       "      <td>0</td>\n",
       "      <td>1.397940</td>\n",
       "      <td>0.698970</td>\n",
       "      <td>3.0</td>\n",
       "      <td>2.0</td>\n",
       "      <td>3.410102</td>\n",
       "      <td>3.348500</td>\n",
       "      <td>0.686</td>\n",
       "      <td>3.244525</td>\n",
       "      <td>1.633468</td>\n",
       "      <td>0.448</td>\n",
       "      <td>0.868</td>\n",
       "      <td>0.061452</td>\n",
       "      <td>0.077004</td>\n",
       "    </tr>\n",
       "    <tr>\n",
       "      <th>6515</th>\n",
       "      <td>1.653213</td>\n",
       "      <td>1</td>\n",
       "      <td>3</td>\n",
       "      <td>1.568202</td>\n",
       "      <td>0.778151</td>\n",
       "      <td>2.0</td>\n",
       "      <td>3.0</td>\n",
       "      <td>4.402726</td>\n",
       "      <td>0.000000</td>\n",
       "      <td>0.849</td>\n",
       "      <td>3.358506</td>\n",
       "      <td>1.591065</td>\n",
       "      <td>0.583</td>\n",
       "      <td>0.000</td>\n",
       "      <td>4.402726</td>\n",
       "      <td>1.081779</td>\n",
       "    </tr>\n",
       "    <tr>\n",
       "      <th>7141</th>\n",
       "      <td>1.672098</td>\n",
       "      <td>1</td>\n",
       "      <td>2</td>\n",
       "      <td>1.491362</td>\n",
       "      <td>0.845098</td>\n",
       "      <td>3.0</td>\n",
       "      <td>1.0</td>\n",
       "      <td>4.067108</td>\n",
       "      <td>2.961895</td>\n",
       "      <td>0.892</td>\n",
       "      <td>3.631241</td>\n",
       "      <td>1.954243</td>\n",
       "      <td>0.854</td>\n",
       "      <td>0.078</td>\n",
       "      <td>1.105204</td>\n",
       "      <td>0.545802</td>\n",
       "    </tr>\n",
       "    <tr>\n",
       "      <th>632</th>\n",
       "      <td>1.568202</td>\n",
       "      <td>0</td>\n",
       "      <td>0</td>\n",
       "      <td>1.397940</td>\n",
       "      <td>0.602060</td>\n",
       "      <td>1.0</td>\n",
       "      <td>3.0</td>\n",
       "      <td>3.494850</td>\n",
       "      <td>3.202488</td>\n",
       "      <td>0.869</td>\n",
       "      <td>3.218273</td>\n",
       "      <td>1.623249</td>\n",
       "      <td>0.367</td>\n",
       "      <td>0.510</td>\n",
       "      <td>0.292256</td>\n",
       "      <td>0.284882</td>\n",
       "    </tr>\n",
       "    <tr>\n",
       "      <th>3496</th>\n",
       "      <td>1.707570</td>\n",
       "      <td>1</td>\n",
       "      <td>5</td>\n",
       "      <td>1.612784</td>\n",
       "      <td>0.698970</td>\n",
       "      <td>2.0</td>\n",
       "      <td>3.0</td>\n",
       "      <td>4.538033</td>\n",
       "      <td>3.074085</td>\n",
       "      <td>0.725</td>\n",
       "      <td>3.588272</td>\n",
       "      <td>1.863323</td>\n",
       "      <td>0.714</td>\n",
       "      <td>0.034</td>\n",
       "      <td>1.463953</td>\n",
       "      <td>0.982362</td>\n",
       "    </tr>\n",
       "  </tbody>\n",
       "</table>\n",
       "</div>"
      ],
      "text/plain": [
       "      Customer_Age  Gender  Income_Category  Months_on_book  \\\n",
       "2856      1.568202       0                0        1.397940   \n",
       "6515      1.653213       1                3        1.568202   \n",
       "7141      1.672098       1                2        1.491362   \n",
       "632       1.568202       0                0        1.397940   \n",
       "3496      1.707570       1                5        1.612784   \n",
       "\n",
       "      Total_Relationship_Count  Months_Inactive_12_mon  Contacts_Count_12_mon  \\\n",
       "2856                  0.698970                     3.0                    2.0   \n",
       "6515                  0.778151                     2.0                    3.0   \n",
       "7141                  0.845098                     3.0                    1.0   \n",
       "632                   0.602060                     1.0                    3.0   \n",
       "3496                  0.698970                     2.0                    3.0   \n",
       "\n",
       "      Credit_Limit  Total_Revolving_Bal  Total_Amt_Chng_Q4_Q1  \\\n",
       "2856      3.410102             3.348500                 0.686   \n",
       "6515      4.402726             0.000000                 0.849   \n",
       "7141      4.067108             2.961895                 0.892   \n",
       "632       3.494850             3.202488                 0.869   \n",
       "3496      4.538033             3.074085                 0.725   \n",
       "\n",
       "      Total_Trans_Amt  Total_Trans_Ct  Total_Ct_Chng_Q4_Q1  \\\n",
       "2856         3.244525        1.633468                0.448   \n",
       "6515         3.358506        1.591065                0.583   \n",
       "7141         3.631241        1.954243                0.854   \n",
       "632          3.218273        1.623249                0.367   \n",
       "3496         3.588272        1.863323                0.714   \n",
       "\n",
       "      Avg_Utilization_Ratio  Avg_per_Total_Rev  Avg_per_Total_Trans  \n",
       "2856                  0.868           0.061452             0.077004  \n",
       "6515                  0.000           4.402726             1.081779  \n",
       "7141                  0.078           1.105204             0.545802  \n",
       "632                   0.510           0.292256             0.284882  \n",
       "3496                  0.034           1.463953             0.982362  "
      ]
     },
     "execution_count": 38,
     "metadata": {},
     "output_type": "execute_result"
    }
   ],
   "source": [
    "train.head(5)"
   ]
  },
  {
   "cell_type": "code",
   "execution_count": 39,
   "metadata": {
    "scrolled": true
   },
   "outputs": [
    {
     "data": {
      "text/plain": [
       "array([[-1.33001081, -0.94673201, -1.03038823, -1.55864359,  0.27207445,\n",
       "         0.64649465, -0.41123563, -0.80525121,  0.70411582, -0.33559655,\n",
       "        -1.05034456, -0.85837654, -1.09357251,  2.14886698, -0.92692829,\n",
       "        -0.96467107],\n",
       "       [-0.21095426,  1.05626512,  0.78949005,  0.10836782,  0.76567951,\n",
       "        -0.34241267,  0.48963506,  1.65374404, -1.75364177,  0.40748907,\n",
       "        -0.65040725, -1.09839708, -0.53724387, -1.00007234,  2.2058302 ,\n",
       "         2.09557918],\n",
       "       [ 0.03764675,  1.05626512,  0.18286396, -0.64396342,  1.18301665,\n",
       "         0.64649465, -1.31210631,  0.82232933,  0.42035316,  0.60351779,\n",
       "         0.30656338,  0.95731626,  0.57953438, -0.71710314, -0.1737345 ,\n",
       "         0.46314869]])"
      ]
     },
     "execution_count": 39,
     "metadata": {},
     "output_type": "execute_result"
    }
   ],
   "source": [
    "# STANDARD SCALING\n",
    "scaler=sklearn.preprocessing.StandardScaler()\n",
    "scaler.fit(train)\n",
    "train=scaler.transform(train)\n",
    "test=scaler.transform(test)\n",
    "train[:3]"
   ]
  },
  {
   "cell_type": "markdown",
   "metadata": {},
   "source": [
    "# MODEL BUILDING "
   ]
  },
  {
   "cell_type": "markdown",
   "metadata": {},
   "source": [
    "Some important Functions will be written and  to avoid repeating codes\n"
   ]
  },
  {
   "cell_type": "code",
   "execution_count": 40,
   "metadata": {},
   "outputs": [],
   "source": [
    "#Function to return Prediction,Decision_Function,confusion_matrix and classifcation report\n",
    "def f(classifier,x,y,Method):\n",
    "    pre=cross_val_predict(classifier,x,y,cv=5)\n",
    "    pre_thresh=cross_val_predict(classifier,x,y,cv=5,method=Method)\n",
    "    con_mat=confusion_matrix(y,pre)\n",
    "    precision=precision_score(y,pre)\n",
    "    recall=recall_score(y,pre)\n",
    "    print('confusion_matrix:','\\n',con_mat,'\\n','\\n','precision_score:',round(precision,3),'\\n','\\n','recall_score:',round(recall,3))\n",
    "    return pre,pre_thresh"
   ]
  },
  {
   "cell_type": "code",
   "execution_count": 41,
   "metadata": {},
   "outputs": [],
   "source": [
    "#Function To Display Precision_Recall_Curve\n",
    "def curve(thresh,title):\n",
    "    precision,recall,threshold=precision_recall_curve(y_train,thresh)\n",
    "    plt.figure(figsize=(8,10))\n",
    "    plt.plot(threshold,precision[:-1],c='r',label='Precision',lw=2)\n",
    "    plt.plot(threshold,recall[:-1],c='g',label='Recall',lw=2)\n",
    "    plt.legend(loc='best')\n",
    "    plt.xlabel('Threshold')\n",
    "    plt.ylabel('Precision_Recall')\n",
    "    plt.title(title)\n",
    "    plt.grid('True')\n",
    "    plt.show()"
   ]
  },
  {
   "cell_type": "raw",
   "metadata": {},
   "source": [
    "RANDOM FOREST CLASSIFIER"
   ]
  },
  {
   "cell_type": "code",
   "execution_count": 42,
   "metadata": {},
   "outputs": [
    {
     "data": {
      "image/png": "[encoded data removed]",
      "text/plain": [
       "<Figure size 576x576 with 1 Axes>"
      ]
     },
     "metadata": {
      "needs_background": "light"
     },
     "output_type": "display_data"
    }
   ],
   "source": [
    "#Selecting Best Number Of Estimators\n",
    "estimators=[2,5,10,20,35,50,75,100,150,200,220,250,300];scores=[];\n",
    "for x in estimators:\n",
    "    forest_clf=RandomForestClassifier(n_estimators=x,random_state=42)\n",
    "    forest_pre=cross_val_predict(forest_clf,train,y_train,cv=5)\n",
    "    scores.append(recall_score(y_train,forest_pre))\n",
    "# Plot of Scores vs Estimators\n",
    "plt.figure(figsize=(8,8))\n",
    "plt.plot(estimators,scores,'r*--',lw=2.5)\n",
    "plt.xlabel('Number of Estimators')\n",
    "plt.ylabel('Scores')\n",
    "plt.title('Random_Forest_Estimators_vs_Scores_Plot')\n",
    "plt.grid('True')\n",
    "plt.show()\n",
    "          "
   ]
  },
  {
   "cell_type": "code",
   "execution_count": 43,
   "metadata": {},
   "outputs": [
    {
     "data": {
      "text/plain": [
       "RandomForestClassifier(n_estimators=220, random_state=42)"
      ]
     },
     "execution_count": 43,
     "metadata": {},
     "output_type": "execute_result"
    }
   ],
   "source": [
    "forest_clf=RandomForestClassifier(random_state=42,n_estimators=220)\n",
    "forest_clf.fit(train,y_train)"
   ]
  },
  {
   "cell_type": "code",
   "execution_count": 44,
   "metadata": {},
   "outputs": [
    {
     "name": "stdout",
     "output_type": "stream",
     "text": [
      "confusion_matrix: \n",
      " [[6722   77]\n",
      " [ 205 1097]] \n",
      " \n",
      " precision_score: 0.934 \n",
      " \n",
      " recall_score: 0.843\n"
     ]
    }
   ],
   "source": [
    "forest_pre,forest_proba=f(forest_clf,train,y_train,'predict_proba')"
   ]
  },
  {
   "cell_type": "code",
   "execution_count": 45,
   "metadata": {},
   "outputs": [
    {
     "data": {
      "image/png": "[encoded data removed]",
      "text/plain": [
       "<Figure size 576x720 with 1 Axes>"
      ]
     },
     "metadata": {
      "needs_background": "light"
     },
     "output_type": "display_data"
    }
   ],
   "source": [
    "curve(forest_proba[:,-1],'RandomForest_Precision_Recall_Curve')"
   ]
  },
  {
   "cell_type": "code",
   "execution_count": 46,
   "metadata": {},
   "outputs": [],
   "source": [
    "# Predicting Test data\n",
    "forest_test=forest_clf.predict(test)"
   ]
  },
  {
   "cell_type": "code",
   "execution_count": 47,
   "metadata": {},
   "outputs": [
    {
     "data": {
      "text/plain": [
       "0.8153846153846154"
      ]
     },
     "execution_count": 47,
     "metadata": {},
     "output_type": "execute_result"
    }
   ],
   "source": [
    "#Test Data Recall Score\n",
    "recall_score(y_test,forest_test)"
   ]
  },
  {
   "cell_type": "raw",
   "metadata": {},
   "source": [
    "GRADIENT BOOSTING CLASSIFIER"
   ]
  },
  {
   "cell_type": "code",
   "execution_count": 142,
   "metadata": {},
   "outputs": [
    {
     "data": {
      "image/png": "[encoded data removed]",
      "text/plain": [
       "<Figure size 360x360 with 1 Axes>"
      ]
     },
     "metadata": {
      "needs_background": "light"
     },
     "output_type": "display_data"
    }
   ],
   "source": [
    "#Finding Best Estimators for GradientBoostingClassifier\n",
    "estimators=[2,5,10,20,35,50,100,150,200,250,270];scores=[]\n",
    "for x in estimators:\n",
    "    grad_clf=GradientBoostingClassifier(n_estimators=x,random_state=42)\n",
    "    grad_pre=cross_val_predict(grad_clf,train,y_train,cv=5)\n",
    "    scores.append(recall_score(y_train,grad_pre))\n",
    "plt.figure(figsize=(8,8))\n",
    "plt.title('GradientBoost_Estimators_Vs_Scores')\n",
    "plt.xlabel('Number Of Estimators')\n",
    "plt.ylabel('Scores')\n",
    "plt.plot(estimators,scores,'r*--',lw=2.5)\n",
    "plt.grid('True')\n",
    "plt.show()"
   ]
  },
  {
   "cell_type": "code",
   "execution_count": 48,
   "metadata": {},
   "outputs": [
    {
     "data": {
      "text/plain": [
       "GradientBoostingClassifier(n_estimators=250, random_state=42)"
      ]
     },
     "execution_count": 48,
     "metadata": {},
     "output_type": "execute_result"
    }
   ],
   "source": [
    "grad_clf=GradientBoostingClassifier(random_state=42,n_estimators=250)\n",
    "grad_clf.fit(train,y_train)"
   ]
  },
  {
   "cell_type": "code",
   "execution_count": 199,
   "metadata": {},
   "outputs": [
    {
     "name": "stdout",
     "output_type": "stream",
     "text": [
      "confusion_matrix: \n",
      " [[6729   70]\n",
      " [ 150 1152]] \n",
      " \n",
      " precision_score: 0.943 \n",
      " \n",
      " recall_score: 0.885\n"
     ]
    }
   ],
   "source": [
    "grad_pre,grad_proba=f(grad_clf,train,y_train,'predict_proba')"
   ]
  },
  {
   "cell_type": "code",
   "execution_count": 154,
   "metadata": {},
   "outputs": [
    {
     "name": "stdout",
     "output_type": "stream",
     "text": [
      "Fig 1.5\n"
     ]
    },
    {
     "data": {
      "image/png": "[encoded data removed]",
      "text/plain": [
       "<Figure size 576x720 with 1 Axes>"
      ]
     },
     "metadata": {
      "needs_background": "light"
     },
     "output_type": "display_data"
    }
   ],
   "source": [
    "print('Fig 1.5')\n",
    "curve(grad_proba[:,-1],'GradientBoosting Precision Recall Curve')"
   ]
  },
  {
   "cell_type": "code",
   "execution_count": 153,
   "metadata": {},
   "outputs": [],
   "source": [
    "# Predicting Test Data\n",
    "grad_test=grad_clf.predict(test)"
   ]
  },
  {
   "cell_type": "code",
   "execution_count": 148,
   "metadata": {},
   "outputs": [
    {
     "data": {
      "text/plain": [
       "0.8523076923076923"
      ]
     },
     "execution_count": 148,
     "metadata": {},
     "output_type": "execute_result"
    }
   ],
   "source": [
    "#Test Recall Score\n",
    "recall_score(y_test,grad_test)"
   ]
  },
  {
   "cell_type": "markdown",
   "metadata": {},
   "source": [
    "Gradient Boosting Classifier Gives a Recall score of 0.885 and a Precision Score of 0.943 on Train Data using Cross Validation and a Recall of 0.852 on Test data"
   ]
  },
  {
   "cell_type": "raw",
   "metadata": {},
   "source": [
    "ANALYSING FEATURE IMPORTANCES"
   ]
  },
  {
   "cell_type": "code",
   "execution_count": 50,
   "metadata": {},
   "outputs": [
    {
     "name": "stdout",
     "output_type": "stream",
     "text": [
      "Attrition_Flag \t 0.01442\n",
      "Customer_Age \t 0.00117\n",
      "Gender \t 0.00043\n",
      "Income_Category \t 0.00267\n",
      "Months_on_book \t 0.09251\n",
      "Total_Relationship_Count \t 0.0164\n",
      "Months_Inactive_12_mon \t 0.01728\n",
      "Contacts_Count_12_mon \t 0.00189\n",
      "Credit_Limit \t 0.18408\n",
      "Total_Revolving_Bal \t 0.03434\n",
      "Total_Amt_Chng_Q4_Q1 \t 0.19668\n",
      "Total_Trans_Amt \t 0.32995\n",
      "Total_Trans_Ct \t 0.09843\n",
      "Total_Ct_Chng_Q4_Q1 \t 0.00171\n",
      "Avg_Utilization_Ratio \t 0.00424\n",
      "Avg_per_Total_Rev \t 0.00381\n"
     ]
    }
   ],
   "source": [
    "for x,y in zip(data.columns,grad_clf.feature_importances_):\n",
    "    print(x,'\\t',round(y,5))"
   ]
  },
  {
   "cell_type": "markdown",
   "metadata": {},
   "source": [
    "The Results above shows that features such as Total_Trans_Amt and Total_Chng_Q4_Q1 are the most informative and contributes significantly to the GradientBoosting Model while features such as Gender,Customer Age and Total_Ct_Chng_Q4_Q1 can be considered inconsequential and contributes less to the model and can be dropped."
   ]
  },
  {
   "cell_type": "raw",
   "metadata": {},
   "source": [
    "PRECISION-RECALL CALLOFF"
   ]
  },
  {
   "cell_type": "markdown",
   "metadata": {},
   "source": [
    "PRECISION-RECALL CALLOFF : Precision and Recall scores vary with each other and with the value of threshold used for decision Making,as Precision increases Recall scores tends to decrease. If the threshold for decision making is decreased higher recall score is acheived while precision score reduces, if we increase the threshold of decision making a higher precision score is acheived with a reduced recall score this can be demonstrated from the Fig 1.5 (Gradient Boosting Precision_Recall_Curve),The threshold is at 0.6 which gives a precision of 0.943 and recall of 0.882. If the threshold is reduced to 0.2 we will acheive a recall of 0.9+ while precision will be 0.83. To achieve a recall of 1.0 the threshold 0.0 while precision will be between 0.35 and 0.40. The Business Objective is to predict as much Customers who are more likely to churn or be attrited this will be achieved by setting the threshold to get a high recall while keeping the precision at a reasonable point\n",
    "  "
   ]
  },
  {
   "cell_type": "code",
   "execution_count": 203,
   "metadata": {},
   "outputs": [
    {
     "name": "stdout",
     "output_type": "stream",
     "text": [
      "confusion_matrix: \n",
      " [[6564  235]\n",
      " [  61 1241]] \n",
      " \n",
      " Precision_Score: 0.841 \n",
      " \n",
      " Recall_Score: 0.953\n"
     ]
    }
   ],
   "source": [
    "#Set The Threshold for Decision Making at 0.2 For GradientBoosting\n",
    "threshold=0.2\n",
    "grad_tradeoff_dec=grad_proba[:,-1]\n",
    "grad_tradeoff_pre=np.where(grad_tradeoff_dec>=0.2,1,0)\n",
    "print('confusion_matrix:','\\n',confusion_matrix(y_train,grad_tradeoff_pre),'\\n','\\n','Precision_Score:',round(precision_score(y_train,grad_tradeoff_pre),3),'\\n','\\n','Recall_Score:',round(recall_score(y_train,grad_tradeoff_pre),3))"
   ]
  },
  {
   "cell_type": "code",
   "execution_count": 208,
   "metadata": {},
   "outputs": [
    {
     "name": "stdout",
     "output_type": "stream",
     "text": [
      "Test_Precision_Score: 0.863 \n",
      " \n",
      " Test Recall Score: 0.932\n"
     ]
    }
   ],
   "source": [
    "#PREDICTING TEST DATA\n",
    "grad_tradeoff_test_proba=grad_clf.predict_proba(test)[:,-1]\n",
    "grad_tradeoff_test_pre=np.where(grad_tradeoff_test_proba>=0.2,1,0)\n",
    "print('Test_Precision_Score:',round(precision_score(y_test,grad_tradeoff_test_pre),3),'\\n','\\n','Test Recall Score:',round(recall_score(y_test,grad_tradeoff_test_pre),3))"
   ]
  },
  {
   "cell_type": "markdown",
   "metadata": {},
   "source": [
    "The result above shows that a threshold of 0.2 yields a recall score of 0.932 and precision score of 0.863\n"
   ]
  },
  {
   "cell_type": "markdown",
   "metadata": {},
   "source": [
    "There are no hard rules for altering thresholds to make decisions, there are numerous ways to achieve this. We can acheive any value for recall and precision by continously varying the threshold."
   ]
  }
 ],
 "metadata": {
  "kernelspec": {
   "display_name": "Python 3",
   "language": "python",
   "name": "python3"
  },
  "language_info": {
   "codemirror_mode": {
    "name": "ipython",
    "version": 3
   },
   "file_extension": ".py",
   "mimetype": "text/x-python",
   "name": "python",
   "nbconvert_exporter": "python",
   "pygments_lexer": "ipython3",
   "version": "3.8.3"
  }
 },
 "nbformat": 4,
 "nbformat_minor": 4
}
